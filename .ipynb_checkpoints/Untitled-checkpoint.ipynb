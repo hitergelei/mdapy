{
 "cells": [
  {
   "cell_type": "code",
   "execution_count": 1,
   "metadata": {},
   "outputs": [],
   "source": [
    "import os\n",
    "from glob import glob\n",
    "import platform\n",
    "from shutil import move"
   ]
  },
  {
   "cell_type": "code",
   "execution_count": 6,
   "metadata": {},
   "outputs": [
    {
     "name": "stdout",
     "output_type": "stream",
     "text": [
      "compute_entropy entropy_p.f90 p Windows\n",
      "compute_neighbor neigh_cell_p.f90 p Windows\n",
      "compute_temperature temperature_p.f90 p Windows\n",
      "compute_wcp wcp_s.f90 s Windows\n"
     ]
    }
   ],
   "source": [
    "for i in glob('*/*.f90'):\n",
    "    path, file = os.path.split(i)\n",
    "    mod = os.path.splitext(file)[0]\n",
    "    print(path ,file, mod[-1], platform.system())\n",
    "    os.system(f'cd {path}')\n",
    "    if platform.system() == 'Linux':\n",
    "        if mod[-1] == 'p':\n",
    "            os.system(f\"f2py -c {os.path.abspath(i)} -m {mod} --opt='-O3' --fcompiler=intelem --f90flags='-qopenmp' -lgomp\")\n",
    "        elif mod[-1] == 's':\n",
    "            os.system(f\"f2py -c {os.path.abspath(i)} -m {mod} --opt='-O3' --fcompiler=intelem\")\n",
    "    elif platform.system() == 'Windows':\n",
    "        \n",
    "        if mod[-2][-1] == 'p':\n",
    "            print('p_win')\n",
    "            os.system(f\"f2py -c {os.path.abspath(i)} -m {mod} --opt='-O3' --fcompiler=gfortran --f90flags='-fopenmp' -lgomp\")\n",
    "        elif mod[-2][-1] == 's':\n",
    "            print('s_win')\n",
    "            os.system(f\"f2py -c {os.path.abspath(i)} -m {mod} --opt='-O3' --fcompiler=gfortran\")\n",
    "    os.system('cd ..')\n",
    "#     if platform.system() == 'Linux':\n",
    "#         os.system(f'mv {mod}.*.so {path}')\n",
    "#     elif platform.system() == 'Windows':\n",
    "#         move(f\"{glob(f'./{mod}.*.pyd')}\", path)\n",
    "        \n"
   ]
  },
  {
   "cell_type": "code",
   "execution_count": 8,
   "metadata": {},
   "outputs": [
    {
     "data": {
      "text/plain": [
       "'.\\\\wcp_s.cp37-win_amd64.pyd'"
      ]
     },
     "execution_count": 8,
     "metadata": {},
     "output_type": "execute_result"
    }
   ],
   "source": [
    "glob(f'./{mod}.*.pyd')[0]"
   ]
  },
  {
   "cell_type": "code",
   "execution_count": 9,
   "metadata": {},
   "outputs": [],
   "source": [
    "move?"
   ]
  },
  {
   "cell_type": "code",
   "execution_count": null,
   "metadata": {},
   "outputs": [],
   "source": []
  }
 ],
 "metadata": {
  "kernelspec": {
   "display_name": "Python 3",
   "language": "python",
   "name": "python3"
  },
  "language_info": {
   "codemirror_mode": {
    "name": "ipython",
    "version": 3
   },
   "file_extension": ".py",
   "mimetype": "text/x-python",
   "name": "python",
   "nbconvert_exporter": "python",
   "pygments_lexer": "ipython3",
   "version": "3.7.3"
  }
 },
 "nbformat": 4,
 "nbformat_minor": 2
}
