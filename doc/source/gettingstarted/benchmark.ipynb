{
 "cells": [
  {
   "attachments": {},
   "cell_type": "markdown",
   "id": "2c2b4350",
   "metadata": {},
   "source": [
    "# Benchmark"
   ]
  },
  {
   "attachments": {},
   "cell_type": "markdown",
   "id": "497d9b9d",
   "metadata": {},
   "source": [
    "## Benchmark for NeighborSearch in mdapy and [freud](https://github.com/glotzerlab/freud)."
   ]
  },
  {
   "cell_type": "code",
   "execution_count": 1,
   "id": "9c5558fe",
   "metadata": {},
   "outputs": [
    {
     "name": "stdout",
     "output_type": "stream",
     "text": [
      "[Taichi] version 1.7.0, llvm 15.0.1, commit 2fd24490, win, python 3.8.0\n",
      "[Taichi] Starting on arch=x64\n"
     ]
    }
   ],
   "source": [
    "import mdapy as mp\n",
    "import freud\n",
    "import numpy as np\n",
    "from time import time\n",
    "import matplotlib.pyplot as plt\n",
    "from mdapy import set_figure\n",
    "mp.init()"
   ]
  },
  {
   "cell_type": "code",
   "execution_count": 2,
   "id": "0e2e6189",
   "metadata": {},
   "outputs": [
    {
     "name": "stdout",
     "output_type": "stream",
     "text": [
      "mdapy version is: 0.10.4\n",
      "freud version is: 3.0.0\n"
     ]
    }
   ],
   "source": [
    "print('mdapy version is:', mp.__version__)\n",
    "print('freud version is:', freud.__version__)"
   ]
  },
  {
   "cell_type": "code",
   "execution_count": 3,
   "id": "12b9a417",
   "metadata": {},
   "outputs": [],
   "source": [
    "def test_neighbor_average_time(ave_num=3, check=False):\n",
    "    time_list = []\n",
    "    print(\"*\" * 30)\n",
    "    for num in [5, 25, 45, 65, 85, 105, 125]: # 150, 175, 200, 225, 250\n",
    "        FCC = mp.LatticeMaker(3.615, \"FCC\", num, 100, 100)\n",
    "        FCC.compute()\n",
    "        print(f\"Build {FCC.N} atoms...\")\n",
    "        freud_t, mdapy_t = 0.0, 0.0\n",
    "        for turn in range(ave_num):\n",
    "            print(f\"Running {turn+1} turn in freud...\")\n",
    "            box = freud.box.Box(Lx=FCC.box[0, 0], Ly=FCC.box[1, 1], Lz=FCC.box[2, 2])\n",
    "\n",
    "            shift_pos = (\n",
    "                FCC.pos\n",
    "                - np.min(FCC.pos, axis=0)\n",
    "                - np.array([np.linalg.norm(FCC.box[i]) for i in range(3)]) / 2\n",
    "            )\n",
    "            start = time()\n",
    "            aq = freud.locality.AABBQuery(box, shift_pos)\n",
    "            nlist = aq.query(\n",
    "                shift_pos, {\"r_max\": 5.0, \"exclude_ii\": True}\n",
    "            ).toNeighborList()\n",
    "            end = time()\n",
    "            freud_t += end - start\n",
    "\n",
    "            print(f\"Running {turn+1} turn in mdapy...\")\n",
    "            start = time()\n",
    "            neigh = mp.Neighbor(FCC.pos, FCC.box, 5.0, max_neigh=50)\n",
    "            neigh.compute()\n",
    "            end = time()\n",
    "            mdapy_t += end - start\n",
    "            if check:\n",
    "                print(f\"Checking results of {turn} turn...\")\n",
    "                assert (nlist.neighbor_counts == neigh.neighbor_number).all()\n",
    "        time_list.append([FCC.N, freud_t / ave_num, mdapy_t / ave_num])\n",
    "        print(\"*\" * 30)\n",
    "    time_list = np.array(time_list)\n",
    "    return time_list"
   ]
  },
  {
   "cell_type": "code",
   "execution_count": null,
   "id": "321ee909",
   "metadata": {},
   "outputs": [
    {
     "name": "stdout",
     "output_type": "stream",
     "text": [
      "******************************\n",
      "Build 200000 atoms...\n",
      "Running 1 turn in freud...\n",
      "Running 1 turn in mdapy...\n",
      "Running 2 turn in freud...\n",
      "Running 2 turn in mdapy...\n",
      "******************************\n",
      "Build 1000000 atoms...\n",
      "Running 1 turn in freud...\n",
      "Running 1 turn in mdapy...\n",
      "Running 2 turn in freud...\n",
      "Running 2 turn in mdapy...\n",
      "******************************\n",
      "Build 1800000 atoms...\n",
      "Running 1 turn in freud...\n",
      "Running 1 turn in mdapy...\n",
      "Running 2 turn in freud...\n",
      "Running 2 turn in mdapy...\n",
      "******************************\n",
      "Build 2600000 atoms...\n",
      "Running 1 turn in freud...\n",
      "Running 1 turn in mdapy...\n",
      "Running 2 turn in freud...\n"
     ]
    }
   ],
   "source": [
    "time_list = test_neighbor_average_time(ave_num=2) # For simple output only run two turns."
   ]
  },
  {
   "cell_type": "code",
   "execution_count": null,
   "id": "1277db40",
   "metadata": {},
   "outputs": [],
   "source": [
    "fig, ax = set_figure(figsize=(10, 8), left=0.16, bottom=0.165, top=0.92, right=0.95, use_pltset=True)\n",
    "colorlist = [i[\"color\"] for i in list(plt.rcParams[\"axes.prop_cycle\"])]\n",
    "N_max = time_list[-1, 0]\n",
    "exp_max = int(np.log10(N_max))\n",
    "x, y = time_list[:, 0] / 10**exp_max, time_list[:, 1]\n",
    "\n",
    "popt = np.polyfit(x, y, 1)\n",
    "plt.plot(x, np.poly1d(popt)(x), c=colorlist[0])\n",
    "plt.plot(x, y, \"o\", label=f\"freud, k={popt[0]:.1f}\")\n",
    "\n",
    "y1 = time_list[:, 2]\n",
    "popt = np.polyfit(x, y1, 1)\n",
    "plt.plot(x, np.poly1d(popt)(x), c=colorlist[1])\n",
    "plt.plot(x, y1, \"o\", label=f\"mdapy, k={popt[0]:.1f}\")\n",
    "plt.title('Neighbor Search', fontsize=12)\n",
    "plt.legend()\n",
    "plt.xlabel(\"Number of atoms ($\\mathregular{10^%d}$)\" % exp_max)\n",
    "plt.ylabel(\"Time (s)\")"
   ]
  }
 ],
 "metadata": {
  "kernelspec": {
   "display_name": "Python 3 (ipykernel)",
   "language": "python",
   "name": "python3"
  },
  "language_info": {
   "codemirror_mode": {
    "name": "ipython",
    "version": 3
   },
   "file_extension": ".py",
   "mimetype": "text/x-python",
   "name": "python",
   "nbconvert_exporter": "python",
   "pygments_lexer": "ipython3",
   "version": "3.8.0"
  }
 },
 "nbformat": 4,
 "nbformat_minor": 5
}
