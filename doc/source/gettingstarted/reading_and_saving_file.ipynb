{
 "cells": [
  {
   "attachments": {},
   "cell_type": "markdown",
   "id": "8a36c37f",
   "metadata": {},
   "source": [
    "# Reading and Saving DUMP file"
   ]
  },
  {
   "attachments": {},
   "cell_type": "markdown",
   "id": "aefac773",
   "metadata": {},
   "source": [
    "## mdapy can read/save DUMP file very efficiently. Here is the result for read/save a DUMP file with 160,000,000 rows and 5 cols:\n",
    "- read in mdapy: 1.4 s\n",
    "- save in mdapy: 12.8 s\n",
    "- read in OVITO: 3.94 s\n",
    "- save in OVITO: 23 s"
   ]
  },
  {
   "cell_type": "code",
   "execution_count": 1,
   "id": "05b4c287",
   "metadata": {},
   "outputs": [
    {
     "name": "stdout",
     "output_type": "stream",
     "text": [
      "[Taichi] version 1.5.0, llvm 15.0.1, commit 7b885c28, win, python 3.10.0\n",
      "[Taichi] Starting on arch=x64\n"
     ]
    },
    {
     "data": {
      "text/plain": [
       "'0.8.5'"
      ]
     },
     "execution_count": 1,
     "metadata": {},
     "output_type": "execute_result"
    }
   ],
   "source": [
    "import mdapy as mp\n",
    "mp.init()\n",
    "mp.__version__"
   ]
  },
  {
   "cell_type": "code",
   "execution_count": 2,
   "id": "8c1789bc",
   "metadata": {},
   "outputs": [
    {
     "data": {
      "text/plain": [
       "(3, 8, 1)"
      ]
     },
     "execution_count": 2,
     "metadata": {},
     "output_type": "execute_result"
    }
   ],
   "source": [
    "import ovito\n",
    "ovito.version"
   ]
  },
  {
   "cell_type": "markdown",
   "id": "5214ca65",
   "metadata": {},
   "source": [
    "## Create a FCC structure"
   ]
  },
  {
   "cell_type": "code",
   "execution_count": 3,
   "id": "dc55b45e",
   "metadata": {},
   "outputs": [
    {
     "name": "stdout",
     "output_type": "stream",
     "text": [
      "CPU times: total: 9.8 s\n",
      "Wall time: 1.11 s\n"
     ]
    }
   ],
   "source": [
    "%%time\n",
    "FCC = mp.LatticeMaker(3.615, 'FCC', 100, 100, 400)\n",
    "FCC.compute()"
   ]
  },
  {
   "cell_type": "code",
   "execution_count": 4,
   "id": "8c2c7d5f",
   "metadata": {},
   "outputs": [
    {
     "name": "stdout",
     "output_type": "stream",
     "text": [
      "Atom number is 16000000.\n"
     ]
    }
   ],
   "source": [
    "print(f'Atom number is {FCC.N}.')"
   ]
  },
  {
   "cell_type": "markdown",
   "id": "2131a989",
   "metadata": {},
   "source": [
    "## Save it to a data format"
   ]
  },
  {
   "cell_type": "code",
   "execution_count": 5,
   "id": "6ef21c54",
   "metadata": {},
   "outputs": [
    {
     "name": "stdout",
     "output_type": "stream",
     "text": [
      "CPU times: total: 14 s\n",
      "Wall time: 14 s\n"
     ]
    }
   ],
   "source": [
    "%%time\n",
    "FCC.write_data(output_name='mdapy.data')"
   ]
  },
  {
   "cell_type": "markdown",
   "id": "1a6b1205",
   "metadata": {},
   "source": [
    "## Save it to a dump format"
   ]
  },
  {
   "cell_type": "code",
   "execution_count": 6,
   "id": "26e1b941",
   "metadata": {},
   "outputs": [
    {
     "name": "stdout",
     "output_type": "stream",
     "text": [
      "CPU times: total: 14.1 s\n",
      "Wall time: 14.2 s\n"
     ]
    }
   ],
   "source": [
    "%%time\n",
    "FCC.write_dump(output_name='mdapy.dump')"
   ]
  },
  {
   "cell_type": "markdown",
   "id": "50a32b32",
   "metadata": {},
   "source": [
    "## Read a dump file in mdapy"
   ]
  },
  {
   "cell_type": "code",
   "execution_count": 7,
   "id": "5d9fefd3",
   "metadata": {},
   "outputs": [
    {
     "name": "stdout",
     "output_type": "stream",
     "text": [
      "CPU times: total: 13.3 s\n",
      "Wall time: 1.4 s\n"
     ]
    }
   ],
   "source": [
    "%%time\n",
    "system = mp.System('mdapy.dump')"
   ]
  },
  {
   "cell_type": "markdown",
   "id": "20cfdcfd",
   "metadata": {},
   "source": [
    "## Save a dump file in mdapy"
   ]
  },
  {
   "cell_type": "code",
   "execution_count": 8,
   "id": "f1d536b2",
   "metadata": {},
   "outputs": [
    {
     "name": "stdout",
     "output_type": "stream",
     "text": [
      "CPU times: total: 13 s\n",
      "Wall time: 12.8 s\n"
     ]
    }
   ],
   "source": [
    "%%time\n",
    "system.write_dump()"
   ]
  },
  {
   "cell_type": "markdown",
   "id": "3bb91aa0",
   "metadata": {},
   "source": [
    "## Read a dump file in OVITO"
   ]
  },
  {
   "cell_type": "code",
   "execution_count": 9,
   "id": "9ce97a92",
   "metadata": {},
   "outputs": [
    {
     "name": "stdout",
     "output_type": "stream",
     "text": [
      "CPU times: total: 3.95 s\n",
      "Wall time: 3.94 s\n"
     ]
    }
   ],
   "source": [
    "%%time\n",
    "pipeline = ovito.io.import_file('mdapy.dump')"
   ]
  },
  {
   "cell_type": "markdown",
   "id": "89ccd665",
   "metadata": {},
   "source": [
    "## Save a dump file in OVITO"
   ]
  },
  {
   "cell_type": "code",
   "execution_count": 10,
   "id": "a93bad8e",
   "metadata": {},
   "outputs": [
    {
     "name": "stdout",
     "output_type": "stream",
     "text": [
      "CPU times: total: 22.9 s\n",
      "Wall time: 23 s\n"
     ]
    }
   ],
   "source": [
    "%%time\n",
    "ovito.io.export_file(pipeline, 'ovito.dump', format='lammps/dump', columns=[\"Particle Identifier\", \"Particle Type\", \"Position.X\", \"Position.Y\", \"Position.Z\"])"
   ]
  },
  {
   "cell_type": "code",
   "execution_count": 11,
   "id": "d999929d",
   "metadata": {},
   "outputs": [],
   "source": [
    "import os\n",
    "# Clear the output\n",
    "os.remove('mdapy.dump')\n",
    "os.remove('mdapy.data')\n",
    "os.remove('ovito.dump')\n",
    "os.remove('mdapy.output.dump')"
   ]
  }
 ],
 "metadata": {
  "kernelspec": {
   "display_name": "Python 3 (ipykernel)",
   "language": "python",
   "name": "python3"
  },
  "language_info": {
   "codemirror_mode": {
    "name": "ipython",
    "version": 3
   },
   "file_extension": ".py",
   "mimetype": "text/x-python",
   "name": "python",
   "nbconvert_exporter": "python",
   "pygments_lexer": "ipython3",
   "version": "3.10.0"
  }
 },
 "nbformat": 4,
 "nbformat_minor": 5
}
