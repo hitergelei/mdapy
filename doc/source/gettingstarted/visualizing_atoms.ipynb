{
 "cells": [
  {
   "cell_type": "markdown",
   "id": "0de66974-10ef-4f1e-9ad0-2a186a3e97f7",
   "metadata": {},
   "source": [
    "# Visualize Atoms"
   ]
  },
  {
   "cell_type": "markdown",
   "id": "08383d59-7ba9-457f-a401-c042932d1814",
   "metadata": {},
   "source": [
    "### This script will use mdapy (>=0.9.7) to visualize the 3D atoms model."
   ]
  },
  {
   "cell_type": "code",
   "execution_count": 5,
   "id": "0973ecef-41e6-4946-b12d-2db97cf1f057",
   "metadata": {},
   "outputs": [
    {
     "name": "stdout",
     "output_type": "stream",
     "text": [
      "[Taichi] Starting on arch=x64\n"
     ]
    }
   ],
   "source": [
    "import mdapy as mp\n",
    "import numpy as np\n",
    "mp.init()"
   ]
  },
  {
   "cell_type": "code",
   "execution_count": 2,
   "id": "39ec901c-b581-422f-ad42-7a660cb46754",
   "metadata": {},
   "outputs": [
    {
     "data": {
      "text/plain": [
       "'0.9.7'"
      ]
     },
     "execution_count": 2,
     "metadata": {},
     "output_type": "execute_result"
    }
   ],
   "source": [
    "mp.__version__"
   ]
  },
  {
   "cell_type": "markdown",
   "id": "d85d2271-e3a7-4433-8eb8-9819b290966b",
   "metadata": {},
   "source": [
    "### Build a polycrystalline as an example"
   ]
  },
  {
   "cell_type": "code",
   "execution_count": 7,
   "id": "71429f01-5822-4934-b90e-23b742ed9418",
   "metadata": {},
   "outputs": [
    {
     "name": "stdout",
     "output_type": "stream",
     "text": [
      "Generating voronoi polygon...\n",
      "Total grain number: 10\n",
      "Generating grain 0..., volume is 359876.8004347251\n",
      "Generating grain 1..., volume is 242724.44580869132\n",
      "Generating grain 2..., volume is 249964.4459555453\n",
      "Generating grain 3..., volume is 369284.89050798607\n",
      "Generating grain 4..., volume is 223787.45956148254\n",
      "Generating grain 5..., volume is 484387.8052467707\n",
      "Generating grain 6..., volume is 145878.18345785938\n",
      "Generating grain 7..., volume is 295809.66197816597\n",
      "Generating grain 8..., volume is 445619.6401283492\n",
      "Generating grain 9..., volume is 182666.6669204249\n",
      "Wraping atoms into box...\n",
      "Deleting overlap atoms...\n",
      "Total atom numbers: 240353, average grain size: 300000.00000000006 A^3\n",
      "Time costs: 2.029984474182129 s.\n"
     ]
    }
   ],
   "source": [
    "box = np.array([[0, 300.], [0, 100.], [0, 100]])\n",
    "poly = mp.CreatePolycrystalline(box, 10, 3.615, 'FCC', randomseed=1, add_graphene=True)\n",
    "poly.compute(save_dump=False)"
   ]
  },
  {
   "cell_type": "markdown",
   "id": "e6342b83-3883-45da-abef-e9b0c17026b4",
   "metadata": {},
   "source": [
    "### Build a system"
   ]
  },
  {
   "cell_type": "code",
   "execution_count": 8,
   "id": "167ed0b0-8676-46ba-91cf-c52a86911ef0",
   "metadata": {},
   "outputs": [],
   "source": [
    "system = mp.System(box = box, data=poly.data)"
   ]
  },
  {
   "cell_type": "code",
   "execution_count": 9,
   "id": "0db2502d-295c-4823-97f3-54f08ba2d308",
   "metadata": {},
   "outputs": [
    {
     "data": {
      "text/plain": [
       "Filename: None\n",
       "Atom Number: 240353\n",
       "Simulation Box:\n",
       "[[  0. 300.]\n",
       " [  0. 100.]\n",
       " [  0. 100.]]\n",
       "TimeStep: 0\n",
       "Boundary: [1, 1, 1]\n",
       "Particle Information:\n",
       "shape: (5, 6)\n",
       "┌─────┬──────┬────────────┬───────────┬───────────┬─────────┐\n",
       "│ id  ┆ type ┆ x          ┆ y         ┆ z         ┆ grainid │\n",
       "│ --- ┆ ---  ┆ ---        ┆ ---       ┆ ---       ┆ ---     │\n",
       "│ i32 ┆ i32  ┆ f32        ┆ f32       ┆ f32       ┆ i32     │\n",
       "╞═════╪══════╪════════════╪═══════════╪═══════════╪═════════╡\n",
       "│ 1   ┆ 1    ┆ 105.667709 ┆ 62.92952  ┆ 53.095554 ┆ 1       │\n",
       "│ 2   ┆ 1    ┆ 103.898407 ┆ 66.064232 ┆ 53.429329 ┆ 1       │\n",
       "│ 3   ┆ 1    ┆ 105.209488 ┆ 70.999443 ┆ 53.181995 ┆ 1       │\n",
       "│ 4   ┆ 1    ┆ 104.553947 ┆ 68.531837 ┆ 53.30566  ┆ 1       │\n",
       "│ 5   ┆ 1    ┆ 102.129112 ┆ 69.198936 ┆ 53.763103 ┆ 1       │\n",
       "└─────┴──────┴────────────┴───────────┴───────────┴─────────┘"
      ]
     },
     "execution_count": 9,
     "metadata": {},
     "output_type": "execute_result"
    }
   ],
   "source": [
    "system"
   ]
  },
  {
   "cell_type": "markdown",
   "id": "2807a512-83a2-40ae-a445-b55d37795962",
   "metadata": {},
   "source": [
    "### Display the configurations"
   ]
  },
  {
   "cell_type": "code",
   "execution_count": 10,
   "id": "25d7056c-b169-4953-a088-fbee9eca4dde",
   "metadata": {},
   "outputs": [
    {
     "data": {
      "application/vnd.jupyter.widget-view+json": {
       "model_id": "3d109722bb724ce39d9e4686881529b2",
       "version_major": 2,
       "version_minor": 0
      },
      "text/plain": [
       "Output()"
      ]
     },
     "metadata": {},
     "output_type": "display_data"
    }
   ],
   "source": [
    "system.display()"
   ]
  },
  {
   "cell_type": "markdown",
   "id": "ce0e58ef-be60-4ac4-8ac8-e429bfc88952",
   "metadata": {},
   "source": [
    "### Colored by the grain id"
   ]
  },
  {
   "cell_type": "code",
   "execution_count": 11,
   "id": "d50ba2ab-0f3b-43a2-89f4-e5479729790c",
   "metadata": {},
   "outputs": [],
   "source": [
    "system.atoms_colored_by('grainid')"
   ]
  },
  {
   "cell_type": "code",
   "execution_count": 13,
   "id": "a8516ba3-1326-46c7-af1f-4986968adea0",
   "metadata": {},
   "outputs": [],
   "source": [
    "system.cal_polyhedral_template_matching(structure='fcc-hcp-bcc-graphene')"
   ]
  },
  {
   "cell_type": "markdown",
   "id": "88905366-9f9c-4b0e-8cbd-88753fb5a4d4",
   "metadata": {},
   "source": [
    "### Colored by the structure type"
   ]
  },
  {
   "cell_type": "code",
   "execution_count": 14,
   "id": "5f058384-e7be-4fae-8353-c48e51553ba9",
   "metadata": {},
   "outputs": [],
   "source": [
    "system.atoms_colored_by('structure_types')"
   ]
  },
  {
   "cell_type": "code",
   "execution_count": 15,
   "id": "2d4239de-4b77-4512-a0bf-6e2c11226794",
   "metadata": {},
   "outputs": [],
   "source": [
    "# Close the display\n",
    "# system.view.close()"
   ]
  }
 ],
 "metadata": {
  "kernelspec": {
   "display_name": "Python 3 (ipykernel)",
   "language": "python",
   "name": "python3"
  },
  "language_info": {
   "codemirror_mode": {
    "name": "ipython",
    "version": 3
   },
   "file_extension": ".py",
   "mimetype": "text/x-python",
   "name": "python",
   "nbconvert_exporter": "python",
   "pygments_lexer": "ipython3",
   "version": "3.8.0"
  }
 },
 "nbformat": 4,
 "nbformat_minor": 5
}
