{
 "cells": [
  {
   "cell_type": "markdown",
   "id": "57be026e",
   "metadata": {},
   "source": [
    "# 本库的基本用法\n",
    "\n",
    "## 目前主要包含以下几个功能\n",
    "\n",
    "- 计算原子温度\n",
    "- 计算原子结构熵\n",
    "- 计算中心对称参数\n",
    "- 建立简单晶体模型\n",
    "- 建立原子近邻列表"
   ]
  },
  {
   "cell_type": "markdown",
   "id": "f5e87622",
   "metadata": {},
   "source": [
    "## 导入必要的package"
   ]
  },
  {
   "cell_type": "code",
   "execution_count": 1,
   "id": "38d2d662",
   "metadata": {},
   "outputs": [
    {
     "name": "stdout",
     "output_type": "stream",
     "text": [
      "[Taichi] version 1.1.2, llvm 10.0.0, commit f25cf4a2, win, python 3.7.3\n",
      "[Taichi] Starting on arch=x64\n"
     ]
    }
   ],
   "source": [
    "import mdapy as mp # 无特殊说明本库简写为 mp\n",
    "import numpy as np\n",
    "mp.init(arch=\"cpu\") #arch=\"cpu\" 使用CPU. # arch=\"gpu\", device_memory_GB=9. 使用GPU, the case is memory costed!!!"
   ]
  },
  {
   "cell_type": "markdown",
   "id": "083c980f",
   "metadata": {},
   "source": [
    "## 查看版本号"
   ]
  },
  {
   "cell_type": "code",
   "execution_count": 2,
   "id": "35fea025",
   "metadata": {},
   "outputs": [
    {
     "data": {
      "text/plain": [
       "'0.4.4'"
      ]
     },
     "execution_count": 2,
     "metadata": {},
     "output_type": "execute_result"
    }
   ],
   "source": [
    "mp.__version__"
   ]
  },
  {
   "cell_type": "markdown",
   "id": "a348c63d",
   "metadata": {},
   "source": [
    "## 读取一个系统\n",
    "[内网可在此处下载mdapy.example.dump文件](http://10.50.129.31:5212/s/b2cy)\n",
    "[外网可在此处下载mdapy.example.dump文件](http://yunpan.mushroomfire.com/s/JkUg)"
   ]
  },
  {
   "cell_type": "code",
   "execution_count": 3,
   "id": "f9e1ee16",
   "metadata": {},
   "outputs": [
    {
     "name": "stdout",
     "output_type": "stream",
     "text": [
      "Wall time: 5.12 s\n"
     ]
    }
   ],
   "source": [
    "%%time\n",
    "system = mp.System('mdapy.example.dump') "
   ]
  },
  {
   "cell_type": "markdown",
   "id": "0053e5b8",
   "metadata": {},
   "source": [
    "## 查看系统数据"
   ]
  },
  {
   "cell_type": "code",
   "execution_count": 4,
   "id": "309e32dc",
   "metadata": {},
   "outputs": [
    {
     "data": {
      "text/html": [
       "<div>\n",
       "<style scoped>\n",
       "    .dataframe tbody tr th:only-of-type {\n",
       "        vertical-align: middle;\n",
       "    }\n",
       "\n",
       "    .dataframe tbody tr th {\n",
       "        vertical-align: top;\n",
       "    }\n",
       "\n",
       "    .dataframe thead th {\n",
       "        text-align: right;\n",
       "    }\n",
       "</style>\n",
       "<table border=\"1\" class=\"dataframe\">\n",
       "  <thead>\n",
       "    <tr style=\"text-align: right;\">\n",
       "      <th></th>\n",
       "      <th>type</th>\n",
       "      <th>id</th>\n",
       "      <th>x</th>\n",
       "      <th>y</th>\n",
       "      <th>z</th>\n",
       "      <th>vx</th>\n",
       "      <th>vy</th>\n",
       "      <th>vz</th>\n",
       "      <th>csp_lammps</th>\n",
       "      <th>entropy_lammps</th>\n",
       "      <th>cna_ovito</th>\n",
       "    </tr>\n",
       "  </thead>\n",
       "  <tbody>\n",
       "    <tr>\n",
       "      <th>0</th>\n",
       "      <td>1</td>\n",
       "      <td>1</td>\n",
       "      <td>-50.3288</td>\n",
       "      <td>1.082210</td>\n",
       "      <td>0.177314</td>\n",
       "      <td>-2.002540</td>\n",
       "      <td>0.826811</td>\n",
       "      <td>-2.007010</td>\n",
       "      <td>0.000000</td>\n",
       "      <td>-17.41350</td>\n",
       "      <td>0</td>\n",
       "    </tr>\n",
       "    <tr>\n",
       "      <th>1</th>\n",
       "      <td>2</td>\n",
       "      <td>4</td>\n",
       "      <td>-28.8172</td>\n",
       "      <td>1.793390</td>\n",
       "      <td>2.342710</td>\n",
       "      <td>-5.216100</td>\n",
       "      <td>-2.418830</td>\n",
       "      <td>-1.374500</td>\n",
       "      <td>12.171200</td>\n",
       "      <td>-2.53738</td>\n",
       "      <td>0</td>\n",
       "    </tr>\n",
       "    <tr>\n",
       "      <th>2</th>\n",
       "      <td>5</td>\n",
       "      <td>5</td>\n",
       "      <td>-28.9045</td>\n",
       "      <td>2.407650</td>\n",
       "      <td>-0.228205</td>\n",
       "      <td>-6.070550</td>\n",
       "      <td>1.127020</td>\n",
       "      <td>-0.026996</td>\n",
       "      <td>12.447300</td>\n",
       "      <td>-3.74150</td>\n",
       "      <td>0</td>\n",
       "    </tr>\n",
       "    <tr>\n",
       "      <th>3</th>\n",
       "      <td>2</td>\n",
       "      <td>6</td>\n",
       "      <td>-29.2147</td>\n",
       "      <td>-0.066835</td>\n",
       "      <td>0.402536</td>\n",
       "      <td>3.383100</td>\n",
       "      <td>1.174460</td>\n",
       "      <td>0.958068</td>\n",
       "      <td>15.121900</td>\n",
       "      <td>-3.19669</td>\n",
       "      <td>0</td>\n",
       "    </tr>\n",
       "    <tr>\n",
       "      <th>4</th>\n",
       "      <td>2</td>\n",
       "      <td>7</td>\n",
       "      <td>-28.6299</td>\n",
       "      <td>-0.802832</td>\n",
       "      <td>3.151540</td>\n",
       "      <td>1.721130</td>\n",
       "      <td>-0.533826</td>\n",
       "      <td>2.740320</td>\n",
       "      <td>13.302700</td>\n",
       "      <td>-3.65741</td>\n",
       "      <td>0</td>\n",
       "    </tr>\n",
       "    <tr>\n",
       "      <th>...</th>\n",
       "      <td>...</td>\n",
       "      <td>...</td>\n",
       "      <td>...</td>\n",
       "      <td>...</td>\n",
       "      <td>...</td>\n",
       "      <td>...</td>\n",
       "      <td>...</td>\n",
       "      <td>...</td>\n",
       "      <td>...</td>\n",
       "      <td>...</td>\n",
       "      <td>...</td>\n",
       "    </tr>\n",
       "    <tr>\n",
       "      <th>2287144</th>\n",
       "      <td>3</td>\n",
       "      <td>1677450</td>\n",
       "      <td>329.3320</td>\n",
       "      <td>297.007000</td>\n",
       "      <td>298.394000</td>\n",
       "      <td>0.221785</td>\n",
       "      <td>0.670797</td>\n",
       "      <td>1.207740</td>\n",
       "      <td>31.990500</td>\n",
       "      <td>-3.46418</td>\n",
       "      <td>0</td>\n",
       "    </tr>\n",
       "    <tr>\n",
       "      <th>2287145</th>\n",
       "      <td>1</td>\n",
       "      <td>1677648</td>\n",
       "      <td>326.4680</td>\n",
       "      <td>296.457000</td>\n",
       "      <td>296.693000</td>\n",
       "      <td>-0.641296</td>\n",
       "      <td>-1.015300</td>\n",
       "      <td>-2.738900</td>\n",
       "      <td>0.856052</td>\n",
       "      <td>-2.99246</td>\n",
       "      <td>1</td>\n",
       "    </tr>\n",
       "    <tr>\n",
       "      <th>2287146</th>\n",
       "      <td>2</td>\n",
       "      <td>1678103</td>\n",
       "      <td>327.1730</td>\n",
       "      <td>298.542000</td>\n",
       "      <td>298.032000</td>\n",
       "      <td>2.439020</td>\n",
       "      <td>-0.024198</td>\n",
       "      <td>3.187590</td>\n",
       "      <td>1.347110</td>\n",
       "      <td>-4.00273</td>\n",
       "      <td>0</td>\n",
       "    </tr>\n",
       "    <tr>\n",
       "      <th>2287147</th>\n",
       "      <td>5</td>\n",
       "      <td>1678731</td>\n",
       "      <td>328.4260</td>\n",
       "      <td>297.622000</td>\n",
       "      <td>296.090000</td>\n",
       "      <td>2.365210</td>\n",
       "      <td>-4.841490</td>\n",
       "      <td>2.918510</td>\n",
       "      <td>14.952900</td>\n",
       "      <td>-3.21759</td>\n",
       "      <td>0</td>\n",
       "    </tr>\n",
       "    <tr>\n",
       "      <th>2287148</th>\n",
       "      <td>1</td>\n",
       "      <td>1683218</td>\n",
       "      <td>329.2430</td>\n",
       "      <td>299.686000</td>\n",
       "      <td>297.509000</td>\n",
       "      <td>-5.104500</td>\n",
       "      <td>4.156080</td>\n",
       "      <td>2.059100</td>\n",
       "      <td>37.472400</td>\n",
       "      <td>-3.53926</td>\n",
       "      <td>0</td>\n",
       "    </tr>\n",
       "  </tbody>\n",
       "</table>\n",
       "<p>2287149 rows × 11 columns</p>\n",
       "</div>"
      ],
      "text/plain": [
       "         type       id         x           y           z        vx        vy  \\\n",
       "0           1        1  -50.3288    1.082210    0.177314 -2.002540  0.826811   \n",
       "1           2        4  -28.8172    1.793390    2.342710 -5.216100 -2.418830   \n",
       "2           5        5  -28.9045    2.407650   -0.228205 -6.070550  1.127020   \n",
       "3           2        6  -29.2147   -0.066835    0.402536  3.383100  1.174460   \n",
       "4           2        7  -28.6299   -0.802832    3.151540  1.721130 -0.533826   \n",
       "...       ...      ...       ...         ...         ...       ...       ...   \n",
       "2287144     3  1677450  329.3320  297.007000  298.394000  0.221785  0.670797   \n",
       "2287145     1  1677648  326.4680  296.457000  296.693000 -0.641296 -1.015300   \n",
       "2287146     2  1678103  327.1730  298.542000  298.032000  2.439020 -0.024198   \n",
       "2287147     5  1678731  328.4260  297.622000  296.090000  2.365210 -4.841490   \n",
       "2287148     1  1683218  329.2430  299.686000  297.509000 -5.104500  4.156080   \n",
       "\n",
       "               vz  csp_lammps  entropy_lammps  cna_ovito  \n",
       "0       -2.007010    0.000000       -17.41350          0  \n",
       "1       -1.374500   12.171200        -2.53738          0  \n",
       "2       -0.026996   12.447300        -3.74150          0  \n",
       "3        0.958068   15.121900        -3.19669          0  \n",
       "4        2.740320   13.302700        -3.65741          0  \n",
       "...           ...         ...             ...        ...  \n",
       "2287144  1.207740   31.990500        -3.46418          0  \n",
       "2287145 -2.738900    0.856052        -2.99246          1  \n",
       "2287146  3.187590    1.347110        -4.00273          0  \n",
       "2287147  2.918510   14.952900        -3.21759          0  \n",
       "2287148  2.059100   37.472400        -3.53926          0  \n",
       "\n",
       "[2287149 rows x 11 columns]"
      ]
     },
     "execution_count": 4,
     "metadata": {},
     "output_type": "execute_result"
    }
   ],
   "source": [
    "system.data"
   ]
  },
  {
   "cell_type": "markdown",
   "id": "a53672fb",
   "metadata": {},
   "source": [
    "## 生成邻域列表"
   ]
  },
  {
   "cell_type": "code",
   "execution_count": 5,
   "id": "a5b90ba7",
   "metadata": {},
   "outputs": [
    {
     "name": "stdout",
     "output_type": "stream",
     "text": [
      "Wall time: 12.8 s\n"
     ]
    }
   ],
   "source": [
    "%%time\n",
    "system.build_neighbor(rc=6.875, max_neigh=150)"
   ]
  },
  {
   "cell_type": "markdown",
   "id": "48fc903b",
   "metadata": {},
   "source": [
    "## 计算中心对称参数"
   ]
  },
  {
   "cell_type": "code",
   "execution_count": 8,
   "id": "e837b394",
   "metadata": {},
   "outputs": [
    {
     "name": "stdout",
     "output_type": "stream",
     "text": [
      "Wall time: 26.4 s\n"
     ]
    }
   ],
   "source": [
    "%%time\n",
    "system.cal_centro_symmetry_parameter(N=12)"
   ]
  },
  {
   "cell_type": "markdown",
   "id": "2ad297e7",
   "metadata": {},
   "source": [
    "## 计算原子构型熵"
   ]
  },
  {
   "cell_type": "code",
   "execution_count": 6,
   "id": "1de8ae45",
   "metadata": {},
   "outputs": [
    {
     "name": "stdout",
     "output_type": "stream",
     "text": [
      "Wall time: 15.9 s\n"
     ]
    }
   ],
   "source": [
    "%%time\n",
    "system.cal_atomic_entropy()"
   ]
  },
  {
   "cell_type": "markdown",
   "id": "c0b91f9c",
   "metadata": {},
   "source": [
    "## 计算平均原子温度"
   ]
  },
  {
   "cell_type": "code",
   "execution_count": 9,
   "id": "d6ef3864",
   "metadata": {},
   "outputs": [
    {
     "name": "stdout",
     "output_type": "stream",
     "text": [
      "Wall time: 2.6 s\n"
     ]
    }
   ],
   "source": [
    "%%time\n",
    "system.cal_atomic_temperature(amass=np.array([58.933, 58.693, 55.847, 26.982, 63.546]))"
   ]
  },
  {
   "cell_type": "markdown",
   "id": "c01bb1e1",
   "metadata": {},
   "source": [
    "## 查看计算结果"
   ]
  },
  {
   "cell_type": "code",
   "execution_count": 10,
   "id": "ed5dca30",
   "metadata": {},
   "outputs": [
    {
     "data": {
      "text/html": [
       "<div>\n",
       "<style scoped>\n",
       "    .dataframe tbody tr th:only-of-type {\n",
       "        vertical-align: middle;\n",
       "    }\n",
       "\n",
       "    .dataframe tbody tr th {\n",
       "        vertical-align: top;\n",
       "    }\n",
       "\n",
       "    .dataframe thead th {\n",
       "        text-align: right;\n",
       "    }\n",
       "</style>\n",
       "<table border=\"1\" class=\"dataframe\">\n",
       "  <thead>\n",
       "    <tr style=\"text-align: right;\">\n",
       "      <th></th>\n",
       "      <th>type</th>\n",
       "      <th>id</th>\n",
       "      <th>x</th>\n",
       "      <th>y</th>\n",
       "      <th>z</th>\n",
       "      <th>vx</th>\n",
       "      <th>vy</th>\n",
       "      <th>vz</th>\n",
       "      <th>csp_lammps</th>\n",
       "      <th>entropy_lammps</th>\n",
       "      <th>cna_ovito</th>\n",
       "      <th>atomic_entropy</th>\n",
       "      <th>csp</th>\n",
       "      <th>atomic_temp</th>\n",
       "    </tr>\n",
       "  </thead>\n",
       "  <tbody>\n",
       "    <tr>\n",
       "      <th>0</th>\n",
       "      <td>1</td>\n",
       "      <td>1</td>\n",
       "      <td>-50.3288</td>\n",
       "      <td>1.082210</td>\n",
       "      <td>0.177314</td>\n",
       "      <td>-2.002540</td>\n",
       "      <td>0.826811</td>\n",
       "      <td>-2.007010</td>\n",
       "      <td>0.000000</td>\n",
       "      <td>-17.41350</td>\n",
       "      <td>0</td>\n",
       "      <td>-17.413478</td>\n",
       "      <td>0.000000</td>\n",
       "      <td>0.000000</td>\n",
       "    </tr>\n",
       "    <tr>\n",
       "      <th>1</th>\n",
       "      <td>2</td>\n",
       "      <td>4</td>\n",
       "      <td>-28.8172</td>\n",
       "      <td>1.793390</td>\n",
       "      <td>2.342710</td>\n",
       "      <td>-5.216100</td>\n",
       "      <td>-2.418830</td>\n",
       "      <td>-1.374500</td>\n",
       "      <td>12.171200</td>\n",
       "      <td>-2.53738</td>\n",
       "      <td>0</td>\n",
       "      <td>-2.528368</td>\n",
       "      <td>12.171250</td>\n",
       "      <td>411.277829</td>\n",
       "    </tr>\n",
       "    <tr>\n",
       "      <th>2</th>\n",
       "      <td>5</td>\n",
       "      <td>5</td>\n",
       "      <td>-28.9045</td>\n",
       "      <td>2.407650</td>\n",
       "      <td>-0.228205</td>\n",
       "      <td>-6.070550</td>\n",
       "      <td>1.127020</td>\n",
       "      <td>-0.026996</td>\n",
       "      <td>12.447300</td>\n",
       "      <td>-3.74150</td>\n",
       "      <td>0</td>\n",
       "      <td>-3.734241</td>\n",
       "      <td>12.447326</td>\n",
       "      <td>443.796596</td>\n",
       "    </tr>\n",
       "    <tr>\n",
       "      <th>3</th>\n",
       "      <td>2</td>\n",
       "      <td>6</td>\n",
       "      <td>-29.2147</td>\n",
       "      <td>-0.066835</td>\n",
       "      <td>0.402536</td>\n",
       "      <td>3.383100</td>\n",
       "      <td>1.174460</td>\n",
       "      <td>0.958068</td>\n",
       "      <td>15.121900</td>\n",
       "      <td>-3.19669</td>\n",
       "      <td>0</td>\n",
       "      <td>-3.186627</td>\n",
       "      <td>15.121857</td>\n",
       "      <td>518.247998</td>\n",
       "    </tr>\n",
       "    <tr>\n",
       "      <th>4</th>\n",
       "      <td>2</td>\n",
       "      <td>7</td>\n",
       "      <td>-28.6299</td>\n",
       "      <td>-0.802832</td>\n",
       "      <td>3.151540</td>\n",
       "      <td>1.721130</td>\n",
       "      <td>-0.533826</td>\n",
       "      <td>2.740320</td>\n",
       "      <td>13.302700</td>\n",
       "      <td>-3.65741</td>\n",
       "      <td>0</td>\n",
       "      <td>-3.648348</td>\n",
       "      <td>13.302651</td>\n",
       "      <td>556.794221</td>\n",
       "    </tr>\n",
       "    <tr>\n",
       "      <th>...</th>\n",
       "      <td>...</td>\n",
       "      <td>...</td>\n",
       "      <td>...</td>\n",
       "      <td>...</td>\n",
       "      <td>...</td>\n",
       "      <td>...</td>\n",
       "      <td>...</td>\n",
       "      <td>...</td>\n",
       "      <td>...</td>\n",
       "      <td>...</td>\n",
       "      <td>...</td>\n",
       "      <td>...</td>\n",
       "      <td>...</td>\n",
       "      <td>...</td>\n",
       "    </tr>\n",
       "    <tr>\n",
       "      <th>2287144</th>\n",
       "      <td>3</td>\n",
       "      <td>1677450</td>\n",
       "      <td>329.3320</td>\n",
       "      <td>297.007000</td>\n",
       "      <td>298.394000</td>\n",
       "      <td>0.221785</td>\n",
       "      <td>0.670797</td>\n",
       "      <td>1.207740</td>\n",
       "      <td>31.990500</td>\n",
       "      <td>-3.46418</td>\n",
       "      <td>0</td>\n",
       "      <td>-3.454840</td>\n",
       "      <td>31.990519</td>\n",
       "      <td>471.677328</td>\n",
       "    </tr>\n",
       "    <tr>\n",
       "      <th>2287145</th>\n",
       "      <td>1</td>\n",
       "      <td>1677648</td>\n",
       "      <td>326.4680</td>\n",
       "      <td>296.457000</td>\n",
       "      <td>296.693000</td>\n",
       "      <td>-0.641296</td>\n",
       "      <td>-1.015300</td>\n",
       "      <td>-2.738900</td>\n",
       "      <td>0.856052</td>\n",
       "      <td>-2.99246</td>\n",
       "      <td>1</td>\n",
       "      <td>-2.989518</td>\n",
       "      <td>0.856052</td>\n",
       "      <td>546.993840</td>\n",
       "    </tr>\n",
       "    <tr>\n",
       "      <th>2287146</th>\n",
       "      <td>2</td>\n",
       "      <td>1678103</td>\n",
       "      <td>327.1730</td>\n",
       "      <td>298.542000</td>\n",
       "      <td>298.032000</td>\n",
       "      <td>2.439020</td>\n",
       "      <td>-0.024198</td>\n",
       "      <td>3.187590</td>\n",
       "      <td>1.347110</td>\n",
       "      <td>-4.00273</td>\n",
       "      <td>0</td>\n",
       "      <td>-3.988562</td>\n",
       "      <td>1.347199</td>\n",
       "      <td>463.425053</td>\n",
       "    </tr>\n",
       "    <tr>\n",
       "      <th>2287147</th>\n",
       "      <td>5</td>\n",
       "      <td>1678731</td>\n",
       "      <td>328.4260</td>\n",
       "      <td>297.622000</td>\n",
       "      <td>296.090000</td>\n",
       "      <td>2.365210</td>\n",
       "      <td>-4.841490</td>\n",
       "      <td>2.918510</td>\n",
       "      <td>14.952900</td>\n",
       "      <td>-3.21759</td>\n",
       "      <td>0</td>\n",
       "      <td>-3.208695</td>\n",
       "      <td>14.952859</td>\n",
       "      <td>589.763234</td>\n",
       "    </tr>\n",
       "    <tr>\n",
       "      <th>2287148</th>\n",
       "      <td>1</td>\n",
       "      <td>1683218</td>\n",
       "      <td>329.2430</td>\n",
       "      <td>299.686000</td>\n",
       "      <td>297.509000</td>\n",
       "      <td>-5.104500</td>\n",
       "      <td>4.156080</td>\n",
       "      <td>2.059100</td>\n",
       "      <td>37.472400</td>\n",
       "      <td>-3.53926</td>\n",
       "      <td>0</td>\n",
       "      <td>-3.531646</td>\n",
       "      <td>37.472448</td>\n",
       "      <td>527.789480</td>\n",
       "    </tr>\n",
       "  </tbody>\n",
       "</table>\n",
       "<p>2287149 rows × 14 columns</p>\n",
       "</div>"
      ],
      "text/plain": [
       "         type       id         x           y           z        vx        vy  \\\n",
       "0           1        1  -50.3288    1.082210    0.177314 -2.002540  0.826811   \n",
       "1           2        4  -28.8172    1.793390    2.342710 -5.216100 -2.418830   \n",
       "2           5        5  -28.9045    2.407650   -0.228205 -6.070550  1.127020   \n",
       "3           2        6  -29.2147   -0.066835    0.402536  3.383100  1.174460   \n",
       "4           2        7  -28.6299   -0.802832    3.151540  1.721130 -0.533826   \n",
       "...       ...      ...       ...         ...         ...       ...       ...   \n",
       "2287144     3  1677450  329.3320  297.007000  298.394000  0.221785  0.670797   \n",
       "2287145     1  1677648  326.4680  296.457000  296.693000 -0.641296 -1.015300   \n",
       "2287146     2  1678103  327.1730  298.542000  298.032000  2.439020 -0.024198   \n",
       "2287147     5  1678731  328.4260  297.622000  296.090000  2.365210 -4.841490   \n",
       "2287148     1  1683218  329.2430  299.686000  297.509000 -5.104500  4.156080   \n",
       "\n",
       "               vz  csp_lammps  entropy_lammps  cna_ovito  atomic_entropy  \\\n",
       "0       -2.007010    0.000000       -17.41350          0      -17.413478   \n",
       "1       -1.374500   12.171200        -2.53738          0       -2.528368   \n",
       "2       -0.026996   12.447300        -3.74150          0       -3.734241   \n",
       "3        0.958068   15.121900        -3.19669          0       -3.186627   \n",
       "4        2.740320   13.302700        -3.65741          0       -3.648348   \n",
       "...           ...         ...             ...        ...             ...   \n",
       "2287144  1.207740   31.990500        -3.46418          0       -3.454840   \n",
       "2287145 -2.738900    0.856052        -2.99246          1       -2.989518   \n",
       "2287146  3.187590    1.347110        -4.00273          0       -3.988562   \n",
       "2287147  2.918510   14.952900        -3.21759          0       -3.208695   \n",
       "2287148  2.059100   37.472400        -3.53926          0       -3.531646   \n",
       "\n",
       "               csp  atomic_temp  \n",
       "0         0.000000     0.000000  \n",
       "1        12.171250   411.277829  \n",
       "2        12.447326   443.796596  \n",
       "3        15.121857   518.247998  \n",
       "4        13.302651   556.794221  \n",
       "...            ...          ...  \n",
       "2287144  31.990519   471.677328  \n",
       "2287145   0.856052   546.993840  \n",
       "2287146   1.347199   463.425053  \n",
       "2287147  14.952859   589.763234  \n",
       "2287148  37.472448   527.789480  \n",
       "\n",
       "[2287149 rows x 14 columns]"
      ]
     },
     "execution_count": 10,
     "metadata": {},
     "output_type": "execute_result"
    }
   ],
   "source": [
    "system.data"
   ]
  },
  {
   "cell_type": "markdown",
   "id": "98372f4e",
   "metadata": {},
   "source": [
    "## 查看平均温度"
   ]
  },
  {
   "cell_type": "code",
   "execution_count": 11,
   "id": "a1597d5e",
   "metadata": {},
   "outputs": [
    {
     "data": {
      "text/plain": [
       "545.965893197601"
      ]
     },
     "execution_count": 11,
     "metadata": {},
     "output_type": "execute_result"
    }
   ],
   "source": [
    "system.data['atomic_temp'].mean() # K"
   ]
  },
  {
   "cell_type": "markdown",
   "id": "aaa823cd",
   "metadata": {},
   "source": [
    "## 与LAMMPS计算结果进行对比"
   ]
  },
  {
   "cell_type": "code",
   "execution_count": 12,
   "id": "eadd1f6f",
   "metadata": {},
   "outputs": [
    {
     "data": {
      "text/plain": [
       "(Series([], dtype: float64), 0.007719748532132087)"
      ]
     },
     "execution_count": 12,
     "metadata": {},
     "output_type": "execute_result"
    }
   ],
   "source": [
    "# csp 对比\n",
    "error = abs(system.data['csp_lammps'] - system.data['csp'])\n",
    "error[error>0.1], error.max()"
   ]
  },
  {
   "cell_type": "code",
   "execution_count": 13,
   "id": "0321a5bc",
   "metadata": {},
   "outputs": [
    {
     "data": {
      "text/plain": [
       "(Series([], dtype: float64), 0.06396243249132372)"
      ]
     },
     "execution_count": 13,
     "metadata": {},
     "output_type": "execute_result"
    }
   ],
   "source": [
    "# 构型熵对比, 这里由于中间数值积分的地方我不清楚lammps的具体方式,结果数值上会有一些区别。\n",
    "error = abs(system.data['entropy_lammps'] - system.data['atomic_entropy'])\n",
    "error[error>0.1], error.max()"
   ]
  },
  {
   "cell_type": "markdown",
   "id": "e24e8c70",
   "metadata": {},
   "source": [
    "## 保存计算结果到dump文件中"
   ]
  },
  {
   "cell_type": "code",
   "execution_count": 14,
   "id": "6844522d",
   "metadata": {},
   "outputs": [
    {
     "name": "stdout",
     "output_type": "stream",
     "text": [
      "Wall time: 1min 13s\n"
     ]
    }
   ],
   "source": [
    "%%time\n",
    "system.write_dump() # 生成一个新的dump文件"
   ]
  },
  {
   "cell_type": "markdown",
   "id": "d0dab9e3",
   "metadata": {},
   "source": [
    "## 建立简单晶体结构"
   ]
  },
  {
   "cell_type": "code",
   "execution_count": 15,
   "id": "83315aa8",
   "metadata": {},
   "outputs": [
    {
     "name": "stdout",
     "output_type": "stream",
     "text": [
      "Wall time: 1.1 s\n"
     ]
    }
   ],
   "source": [
    "%%time\n",
    "FCC = mp.LatticeMaker(4.05, 'FCC', 50, 50, 50)\n",
    "FCC.compute()"
   ]
  },
  {
   "cell_type": "markdown",
   "id": "9df255f9",
   "metadata": {},
   "source": [
    "## 保存为data格式"
   ]
  },
  {
   "cell_type": "code",
   "execution_count": 15,
   "id": "d8b4526f",
   "metadata": {},
   "outputs": [
    {
     "name": "stdout",
     "output_type": "stream",
     "text": [
      "Wall time: 0 ns\n"
     ]
    }
   ],
   "source": [
    "%%time\n",
    "FCC.write_data()"
   ]
  }
 ],
 "metadata": {
  "kernelspec": {
   "display_name": "Python 3 (ipykernel)",
   "language": "python",
   "name": "python3"
  },
  "language_info": {
   "codemirror_mode": {
    "name": "ipython",
    "version": 3
   },
   "file_extension": ".py",
   "mimetype": "text/x-python",
   "name": "python",
   "nbconvert_exporter": "python",
   "pygments_lexer": "ipython3",
   "version": "3.7.3"
  },
  "vscode": {
   "interpreter": {
    "hash": "88279d2366fe020547cde40dd65aa0e3aa662a6ec1f3ca12d88834876c85e1a6"
   }
  }
 },
 "nbformat": 4,
 "nbformat_minor": 5
}
