{
 "cells": [
  {
   "cell_type": "markdown",
   "id": "57be026e",
   "metadata": {},
   "source": [
    "# 本库的基本用法\n",
    "\n",
    "## 目前主要包含以下几个功能\n",
    "\n",
    "- 计算原子温度\n",
    "- 计算原子结构熵\n",
    "- 计算中心对称参数\n",
    "- 建立简单晶体模型\n",
    "- 建立原子近邻列表"
   ]
  },
  {
   "cell_type": "markdown",
   "id": "f5e87622",
   "metadata": {},
   "source": [
    "## 导入必要的package"
   ]
  },
  {
   "cell_type": "code",
   "execution_count": 1,
   "id": "38d2d662",
   "metadata": {},
   "outputs": [
    {
     "name": "stdout",
     "output_type": "stream",
     "text": [
      "[Taichi] version 1.1.2, llvm 10.0.0, commit f25cf4a2, win, python 3.8.13\n"
     ]
    },
    {
     "name": "stderr",
     "output_type": "stream",
     "text": [
      "D:\\Anaconda\\envs\\mda\\lib\\site-packages\\tqdm\\auto.py:22: TqdmWarning: IProgress not found. Please update jupyter and ipywidgets. See https://ipywidgets.readthedocs.io/en/stable/user_install.html\n",
      "  from .autonotebook import tqdm as notebook_tqdm\n"
     ]
    },
    {
     "name": "stdout",
     "output_type": "stream",
     "text": [
      "[Taichi] Starting on arch=x64\n"
     ]
    }
   ],
   "source": [
    "import mdapy as mp # 无特殊说明本库简写为 mp\n",
    "import numpy as np\n",
    "mp.init(arch=\"cpu\") #arch=\"cpu\" 使用CPU. # arch=\"gpu\", device_memory_GB=6. 使用GPU, the case is memory costed!!!"
   ]
  },
  {
   "cell_type": "markdown",
   "id": "083c980f",
   "metadata": {},
   "source": [
    "## 查看版本号"
   ]
  },
  {
   "cell_type": "code",
   "execution_count": 2,
   "id": "35fea025",
   "metadata": {},
   "outputs": [
    {
     "data": {
      "text/plain": [
       "'0.5.0'"
      ]
     },
     "execution_count": 2,
     "metadata": {},
     "output_type": "execute_result"
    }
   ],
   "source": [
    "mp.__version__"
   ]
  },
  {
   "cell_type": "markdown",
   "id": "a348c63d",
   "metadata": {},
   "source": [
    "## 读取一个系统\n",
    "内网可在此处下载[mdapy.example.dump](http://10.50.129.31:5212/s/n2id)文件\n",
    "\n",
    "外网可在此处下载[mdapy.example.dump](http://yunpan.mushroomfire.com/s/JkUg)文件"
   ]
  },
  {
   "cell_type": "code",
   "execution_count": 3,
   "id": "f9e1ee16",
   "metadata": {},
   "outputs": [
    {
     "name": "stdout",
     "output_type": "stream",
     "text": [
      "CPU times: total: 2.91 s\n",
      "Wall time: 2.91 s\n"
     ]
    }
   ],
   "source": [
    "%%time\n",
    "system = mp.System('mdapy.example.dump') "
   ]
  },
  {
   "cell_type": "markdown",
   "id": "0053e5b8",
   "metadata": {},
   "source": [
    "## 查看系统数据"
   ]
  },
  {
   "cell_type": "code",
   "execution_count": 4,
   "id": "309e32dc",
   "metadata": {},
   "outputs": [
    {
     "data": {
      "text/html": [
       "<div>\n",
       "<style scoped>\n",
       "    .dataframe tbody tr th:only-of-type {\n",
       "        vertical-align: middle;\n",
       "    }\n",
       "\n",
       "    .dataframe tbody tr th {\n",
       "        vertical-align: top;\n",
       "    }\n",
       "\n",
       "    .dataframe thead th {\n",
       "        text-align: right;\n",
       "    }\n",
       "</style>\n",
       "<table border=\"1\" class=\"dataframe\">\n",
       "  <thead>\n",
       "    <tr style=\"text-align: right;\">\n",
       "      <th></th>\n",
       "      <th>type</th>\n",
       "      <th>id</th>\n",
       "      <th>x</th>\n",
       "      <th>y</th>\n",
       "      <th>z</th>\n",
       "      <th>vx</th>\n",
       "      <th>vy</th>\n",
       "      <th>vz</th>\n",
       "      <th>csp_lammps</th>\n",
       "      <th>entropy_lammps</th>\n",
       "    </tr>\n",
       "  </thead>\n",
       "  <tbody>\n",
       "    <tr>\n",
       "      <th>0</th>\n",
       "      <td>1</td>\n",
       "      <td>1</td>\n",
       "      <td>-50.3288</td>\n",
       "      <td>1.082210</td>\n",
       "      <td>0.177314</td>\n",
       "      <td>-2.002540</td>\n",
       "      <td>0.826811</td>\n",
       "      <td>-2.007010</td>\n",
       "      <td>0.000000</td>\n",
       "      <td>-17.41350</td>\n",
       "    </tr>\n",
       "    <tr>\n",
       "      <th>1</th>\n",
       "      <td>2</td>\n",
       "      <td>4</td>\n",
       "      <td>-28.8172</td>\n",
       "      <td>1.793390</td>\n",
       "      <td>2.342710</td>\n",
       "      <td>-5.216100</td>\n",
       "      <td>-2.418830</td>\n",
       "      <td>-1.374500</td>\n",
       "      <td>12.171200</td>\n",
       "      <td>-2.53738</td>\n",
       "    </tr>\n",
       "    <tr>\n",
       "      <th>2</th>\n",
       "      <td>5</td>\n",
       "      <td>5</td>\n",
       "      <td>-28.9045</td>\n",
       "      <td>2.407650</td>\n",
       "      <td>-0.228205</td>\n",
       "      <td>-6.070550</td>\n",
       "      <td>1.127020</td>\n",
       "      <td>-0.026996</td>\n",
       "      <td>12.447300</td>\n",
       "      <td>-3.74150</td>\n",
       "    </tr>\n",
       "    <tr>\n",
       "      <th>3</th>\n",
       "      <td>2</td>\n",
       "      <td>6</td>\n",
       "      <td>-29.2147</td>\n",
       "      <td>-0.066835</td>\n",
       "      <td>0.402536</td>\n",
       "      <td>3.383100</td>\n",
       "      <td>1.174460</td>\n",
       "      <td>0.958068</td>\n",
       "      <td>15.121900</td>\n",
       "      <td>-3.19669</td>\n",
       "    </tr>\n",
       "    <tr>\n",
       "      <th>4</th>\n",
       "      <td>2</td>\n",
       "      <td>7</td>\n",
       "      <td>-28.6299</td>\n",
       "      <td>-0.802832</td>\n",
       "      <td>3.151540</td>\n",
       "      <td>1.721130</td>\n",
       "      <td>-0.533826</td>\n",
       "      <td>2.740320</td>\n",
       "      <td>13.302700</td>\n",
       "      <td>-3.65741</td>\n",
       "    </tr>\n",
       "    <tr>\n",
       "      <th>...</th>\n",
       "      <td>...</td>\n",
       "      <td>...</td>\n",
       "      <td>...</td>\n",
       "      <td>...</td>\n",
       "      <td>...</td>\n",
       "      <td>...</td>\n",
       "      <td>...</td>\n",
       "      <td>...</td>\n",
       "      <td>...</td>\n",
       "      <td>...</td>\n",
       "    </tr>\n",
       "    <tr>\n",
       "      <th>2287144</th>\n",
       "      <td>3</td>\n",
       "      <td>1677450</td>\n",
       "      <td>329.3320</td>\n",
       "      <td>297.007000</td>\n",
       "      <td>298.394000</td>\n",
       "      <td>0.221785</td>\n",
       "      <td>0.670797</td>\n",
       "      <td>1.207740</td>\n",
       "      <td>31.990500</td>\n",
       "      <td>-3.46418</td>\n",
       "    </tr>\n",
       "    <tr>\n",
       "      <th>2287145</th>\n",
       "      <td>1</td>\n",
       "      <td>1677648</td>\n",
       "      <td>326.4680</td>\n",
       "      <td>296.457000</td>\n",
       "      <td>296.693000</td>\n",
       "      <td>-0.641296</td>\n",
       "      <td>-1.015300</td>\n",
       "      <td>-2.738900</td>\n",
       "      <td>0.856052</td>\n",
       "      <td>-2.99246</td>\n",
       "    </tr>\n",
       "    <tr>\n",
       "      <th>2287146</th>\n",
       "      <td>2</td>\n",
       "      <td>1678103</td>\n",
       "      <td>327.1730</td>\n",
       "      <td>298.542000</td>\n",
       "      <td>298.032000</td>\n",
       "      <td>2.439020</td>\n",
       "      <td>-0.024198</td>\n",
       "      <td>3.187590</td>\n",
       "      <td>1.347110</td>\n",
       "      <td>-4.00273</td>\n",
       "    </tr>\n",
       "    <tr>\n",
       "      <th>2287147</th>\n",
       "      <td>5</td>\n",
       "      <td>1678731</td>\n",
       "      <td>328.4260</td>\n",
       "      <td>297.622000</td>\n",
       "      <td>296.090000</td>\n",
       "      <td>2.365210</td>\n",
       "      <td>-4.841490</td>\n",
       "      <td>2.918510</td>\n",
       "      <td>14.952900</td>\n",
       "      <td>-3.21759</td>\n",
       "    </tr>\n",
       "    <tr>\n",
       "      <th>2287148</th>\n",
       "      <td>1</td>\n",
       "      <td>1683218</td>\n",
       "      <td>329.2430</td>\n",
       "      <td>299.686000</td>\n",
       "      <td>297.509000</td>\n",
       "      <td>-5.104500</td>\n",
       "      <td>4.156080</td>\n",
       "      <td>2.059100</td>\n",
       "      <td>37.472400</td>\n",
       "      <td>-3.53926</td>\n",
       "    </tr>\n",
       "  </tbody>\n",
       "</table>\n",
       "<p>2287149 rows × 10 columns</p>\n",
       "</div>"
      ],
      "text/plain": [
       "         type       id         x           y           z        vx        vy  \\\n",
       "0           1        1  -50.3288    1.082210    0.177314 -2.002540  0.826811   \n",
       "1           2        4  -28.8172    1.793390    2.342710 -5.216100 -2.418830   \n",
       "2           5        5  -28.9045    2.407650   -0.228205 -6.070550  1.127020   \n",
       "3           2        6  -29.2147   -0.066835    0.402536  3.383100  1.174460   \n",
       "4           2        7  -28.6299   -0.802832    3.151540  1.721130 -0.533826   \n",
       "...       ...      ...       ...         ...         ...       ...       ...   \n",
       "2287144     3  1677450  329.3320  297.007000  298.394000  0.221785  0.670797   \n",
       "2287145     1  1677648  326.4680  296.457000  296.693000 -0.641296 -1.015300   \n",
       "2287146     2  1678103  327.1730  298.542000  298.032000  2.439020 -0.024198   \n",
       "2287147     5  1678731  328.4260  297.622000  296.090000  2.365210 -4.841490   \n",
       "2287148     1  1683218  329.2430  299.686000  297.509000 -5.104500  4.156080   \n",
       "\n",
       "               vz  csp_lammps  entropy_lammps  \n",
       "0       -2.007010    0.000000       -17.41350  \n",
       "1       -1.374500   12.171200        -2.53738  \n",
       "2       -0.026996   12.447300        -3.74150  \n",
       "3        0.958068   15.121900        -3.19669  \n",
       "4        2.740320   13.302700        -3.65741  \n",
       "...           ...         ...             ...  \n",
       "2287144  1.207740   31.990500        -3.46418  \n",
       "2287145 -2.738900    0.856052        -2.99246  \n",
       "2287146  3.187590    1.347110        -4.00273  \n",
       "2287147  2.918510   14.952900        -3.21759  \n",
       "2287148  2.059100   37.472400        -3.53926  \n",
       "\n",
       "[2287149 rows x 10 columns]"
      ]
     },
     "execution_count": 4,
     "metadata": {},
     "output_type": "execute_result"
    }
   ],
   "source": [
    "system.data"
   ]
  },
  {
   "cell_type": "markdown",
   "id": "a53672fb",
   "metadata": {},
   "source": [
    "## 生成邻域列表"
   ]
  },
  {
   "cell_type": "code",
   "execution_count": 5,
   "id": "a5b90ba7",
   "metadata": {},
   "outputs": [
    {
     "name": "stdout",
     "output_type": "stream",
     "text": [
      "CPU times: total: 1min 38s\n",
      "Wall time: 6.49 s\n"
     ]
    }
   ],
   "source": [
    "%%time\n",
    "system.build_neighbor(rc=6.875, max_neigh=150)"
   ]
  },
  {
   "cell_type": "markdown",
   "id": "5feae50a",
   "metadata": {},
   "source": [
    "## 计算RDF"
   ]
  },
  {
   "cell_type": "code",
   "execution_count": 6,
   "id": "bb8f9292",
   "metadata": {},
   "outputs": [
    {
     "name": "stdout",
     "output_type": "stream",
     "text": [
      "CPU times: total: 1min 51s\n",
      "Wall time: 2.99 s\n"
     ]
    }
   ],
   "source": [
    "%%time\n",
    "system.cal_pair_distribution(rc=5., nbin=200)"
   ]
  },
  {
   "cell_type": "code",
   "execution_count": 7,
   "id": "8f62623a",
   "metadata": {},
   "outputs": [
    {
     "data": {
      "image/png": "[encoded data removed]",
      "text/plain": [
       "<Figure size 472.441x295.276 with 1 Axes>"
      ]
     },
     "metadata": {},
     "output_type": "display_data"
    }
   ],
   "source": [
    "system.PairDistribution.plot()"
   ]
  },
  {
   "cell_type": "markdown",
   "id": "48fc903b",
   "metadata": {},
   "source": [
    "## 计算中心对称参数"
   ]
  },
  {
   "cell_type": "code",
   "execution_count": 6,
   "id": "e837b394",
   "metadata": {},
   "outputs": [
    {
     "name": "stdout",
     "output_type": "stream",
     "text": [
      "Parallel computing by torch.\n",
      "CPU times: total: 1min 30s\n",
      "Wall time: 5.33 s\n"
     ]
    }
   ],
   "source": [
    "%%time\n",
    "system.cal_centro_symmetry_parameter(N=12)"
   ]
  },
  {
   "cell_type": "markdown",
   "id": "2ad297e7",
   "metadata": {},
   "source": [
    "## 计算原子构型熵"
   ]
  },
  {
   "cell_type": "code",
   "execution_count": 7,
   "id": "1de8ae45",
   "metadata": {},
   "outputs": [
    {
     "name": "stdout",
     "output_type": "stream",
     "text": [
      "CPU times: total: 3min\n",
      "Wall time: 6.8 s\n"
     ]
    }
   ],
   "source": [
    "%%time\n",
    "system.cal_atomic_entropy()"
   ]
  },
  {
   "cell_type": "markdown",
   "id": "c0b91f9c",
   "metadata": {},
   "source": [
    "## 计算平均原子温度"
   ]
  },
  {
   "cell_type": "code",
   "execution_count": 8,
   "id": "d6ef3864",
   "metadata": {},
   "outputs": [
    {
     "name": "stdout",
     "output_type": "stream",
     "text": [
      "CPU times: total: 17 s\n",
      "Wall time: 775 ms\n"
     ]
    }
   ],
   "source": [
    "%%time\n",
    "system.cal_atomic_temperature(amass=np.array([58.933, 58.693, 55.847, 26.982, 63.546]))"
   ]
  },
  {
   "cell_type": "markdown",
   "id": "c01bb1e1",
   "metadata": {},
   "source": [
    "## 查看计算结果"
   ]
  },
  {
   "cell_type": "code",
   "execution_count": 9,
   "id": "ed5dca30",
   "metadata": {},
   "outputs": [
    {
     "data": {
      "text/html": [
       "<div>\n",
       "<style scoped>\n",
       "    .dataframe tbody tr th:only-of-type {\n",
       "        vertical-align: middle;\n",
       "    }\n",
       "\n",
       "    .dataframe tbody tr th {\n",
       "        vertical-align: top;\n",
       "    }\n",
       "\n",
       "    .dataframe thead th {\n",
       "        text-align: right;\n",
       "    }\n",
       "</style>\n",
       "<table border=\"1\" class=\"dataframe\">\n",
       "  <thead>\n",
       "    <tr style=\"text-align: right;\">\n",
       "      <th></th>\n",
       "      <th>type</th>\n",
       "      <th>id</th>\n",
       "      <th>x</th>\n",
       "      <th>y</th>\n",
       "      <th>z</th>\n",
       "      <th>vx</th>\n",
       "      <th>vy</th>\n",
       "      <th>vz</th>\n",
       "      <th>csp_lammps</th>\n",
       "      <th>entropy_lammps</th>\n",
       "      <th>csp</th>\n",
       "      <th>atomic_entropy</th>\n",
       "      <th>atomic_temp</th>\n",
       "    </tr>\n",
       "  </thead>\n",
       "  <tbody>\n",
       "    <tr>\n",
       "      <th>0</th>\n",
       "      <td>1</td>\n",
       "      <td>1</td>\n",
       "      <td>-50.3288</td>\n",
       "      <td>1.082210</td>\n",
       "      <td>0.177314</td>\n",
       "      <td>-2.002540</td>\n",
       "      <td>0.826811</td>\n",
       "      <td>-2.007010</td>\n",
       "      <td>0.000000</td>\n",
       "      <td>-17.41350</td>\n",
       "      <td>0.000000</td>\n",
       "      <td>-17.413478</td>\n",
       "      <td>0.000000</td>\n",
       "    </tr>\n",
       "    <tr>\n",
       "      <th>1</th>\n",
       "      <td>2</td>\n",
       "      <td>4</td>\n",
       "      <td>-28.8172</td>\n",
       "      <td>1.793390</td>\n",
       "      <td>2.342710</td>\n",
       "      <td>-5.216100</td>\n",
       "      <td>-2.418830</td>\n",
       "      <td>-1.374500</td>\n",
       "      <td>12.171200</td>\n",
       "      <td>-2.53738</td>\n",
       "      <td>12.171250</td>\n",
       "      <td>-2.528368</td>\n",
       "      <td>411.277829</td>\n",
       "    </tr>\n",
       "    <tr>\n",
       "      <th>2</th>\n",
       "      <td>5</td>\n",
       "      <td>5</td>\n",
       "      <td>-28.9045</td>\n",
       "      <td>2.407650</td>\n",
       "      <td>-0.228205</td>\n",
       "      <td>-6.070550</td>\n",
       "      <td>1.127020</td>\n",
       "      <td>-0.026996</td>\n",
       "      <td>12.447300</td>\n",
       "      <td>-3.74150</td>\n",
       "      <td>12.447326</td>\n",
       "      <td>-3.734241</td>\n",
       "      <td>443.796596</td>\n",
       "    </tr>\n",
       "    <tr>\n",
       "      <th>3</th>\n",
       "      <td>2</td>\n",
       "      <td>6</td>\n",
       "      <td>-29.2147</td>\n",
       "      <td>-0.066835</td>\n",
       "      <td>0.402536</td>\n",
       "      <td>3.383100</td>\n",
       "      <td>1.174460</td>\n",
       "      <td>0.958068</td>\n",
       "      <td>15.121900</td>\n",
       "      <td>-3.19669</td>\n",
       "      <td>15.121857</td>\n",
       "      <td>-3.186627</td>\n",
       "      <td>518.247998</td>\n",
       "    </tr>\n",
       "    <tr>\n",
       "      <th>4</th>\n",
       "      <td>2</td>\n",
       "      <td>7</td>\n",
       "      <td>-28.6299</td>\n",
       "      <td>-0.802832</td>\n",
       "      <td>3.151540</td>\n",
       "      <td>1.721130</td>\n",
       "      <td>-0.533826</td>\n",
       "      <td>2.740320</td>\n",
       "      <td>13.302700</td>\n",
       "      <td>-3.65741</td>\n",
       "      <td>13.302651</td>\n",
       "      <td>-3.648348</td>\n",
       "      <td>556.794221</td>\n",
       "    </tr>\n",
       "    <tr>\n",
       "      <th>...</th>\n",
       "      <td>...</td>\n",
       "      <td>...</td>\n",
       "      <td>...</td>\n",
       "      <td>...</td>\n",
       "      <td>...</td>\n",
       "      <td>...</td>\n",
       "      <td>...</td>\n",
       "      <td>...</td>\n",
       "      <td>...</td>\n",
       "      <td>...</td>\n",
       "      <td>...</td>\n",
       "      <td>...</td>\n",
       "      <td>...</td>\n",
       "    </tr>\n",
       "    <tr>\n",
       "      <th>2287144</th>\n",
       "      <td>3</td>\n",
       "      <td>1677450</td>\n",
       "      <td>329.3320</td>\n",
       "      <td>297.007000</td>\n",
       "      <td>298.394000</td>\n",
       "      <td>0.221785</td>\n",
       "      <td>0.670797</td>\n",
       "      <td>1.207740</td>\n",
       "      <td>31.990500</td>\n",
       "      <td>-3.46418</td>\n",
       "      <td>31.990519</td>\n",
       "      <td>-3.454840</td>\n",
       "      <td>471.677328</td>\n",
       "    </tr>\n",
       "    <tr>\n",
       "      <th>2287145</th>\n",
       "      <td>1</td>\n",
       "      <td>1677648</td>\n",
       "      <td>326.4680</td>\n",
       "      <td>296.457000</td>\n",
       "      <td>296.693000</td>\n",
       "      <td>-0.641296</td>\n",
       "      <td>-1.015300</td>\n",
       "      <td>-2.738900</td>\n",
       "      <td>0.856052</td>\n",
       "      <td>-2.99246</td>\n",
       "      <td>0.856052</td>\n",
       "      <td>-2.989518</td>\n",
       "      <td>546.993840</td>\n",
       "    </tr>\n",
       "    <tr>\n",
       "      <th>2287146</th>\n",
       "      <td>2</td>\n",
       "      <td>1678103</td>\n",
       "      <td>327.1730</td>\n",
       "      <td>298.542000</td>\n",
       "      <td>298.032000</td>\n",
       "      <td>2.439020</td>\n",
       "      <td>-0.024198</td>\n",
       "      <td>3.187590</td>\n",
       "      <td>1.347110</td>\n",
       "      <td>-4.00273</td>\n",
       "      <td>1.347199</td>\n",
       "      <td>-3.988562</td>\n",
       "      <td>463.425053</td>\n",
       "    </tr>\n",
       "    <tr>\n",
       "      <th>2287147</th>\n",
       "      <td>5</td>\n",
       "      <td>1678731</td>\n",
       "      <td>328.4260</td>\n",
       "      <td>297.622000</td>\n",
       "      <td>296.090000</td>\n",
       "      <td>2.365210</td>\n",
       "      <td>-4.841490</td>\n",
       "      <td>2.918510</td>\n",
       "      <td>14.952900</td>\n",
       "      <td>-3.21759</td>\n",
       "      <td>14.952859</td>\n",
       "      <td>-3.208695</td>\n",
       "      <td>589.763234</td>\n",
       "    </tr>\n",
       "    <tr>\n",
       "      <th>2287148</th>\n",
       "      <td>1</td>\n",
       "      <td>1683218</td>\n",
       "      <td>329.2430</td>\n",
       "      <td>299.686000</td>\n",
       "      <td>297.509000</td>\n",
       "      <td>-5.104500</td>\n",
       "      <td>4.156080</td>\n",
       "      <td>2.059100</td>\n",
       "      <td>37.472400</td>\n",
       "      <td>-3.53926</td>\n",
       "      <td>37.472448</td>\n",
       "      <td>-3.531646</td>\n",
       "      <td>527.789480</td>\n",
       "    </tr>\n",
       "  </tbody>\n",
       "</table>\n",
       "<p>2287149 rows × 13 columns</p>\n",
       "</div>"
      ],
      "text/plain": [
       "         type       id         x           y           z        vx        vy  \\\n",
       "0           1        1  -50.3288    1.082210    0.177314 -2.002540  0.826811   \n",
       "1           2        4  -28.8172    1.793390    2.342710 -5.216100 -2.418830   \n",
       "2           5        5  -28.9045    2.407650   -0.228205 -6.070550  1.127020   \n",
       "3           2        6  -29.2147   -0.066835    0.402536  3.383100  1.174460   \n",
       "4           2        7  -28.6299   -0.802832    3.151540  1.721130 -0.533826   \n",
       "...       ...      ...       ...         ...         ...       ...       ...   \n",
       "2287144     3  1677450  329.3320  297.007000  298.394000  0.221785  0.670797   \n",
       "2287145     1  1677648  326.4680  296.457000  296.693000 -0.641296 -1.015300   \n",
       "2287146     2  1678103  327.1730  298.542000  298.032000  2.439020 -0.024198   \n",
       "2287147     5  1678731  328.4260  297.622000  296.090000  2.365210 -4.841490   \n",
       "2287148     1  1683218  329.2430  299.686000  297.509000 -5.104500  4.156080   \n",
       "\n",
       "               vz  csp_lammps  entropy_lammps        csp  atomic_entropy  \\\n",
       "0       -2.007010    0.000000       -17.41350   0.000000      -17.413478   \n",
       "1       -1.374500   12.171200        -2.53738  12.171250       -2.528368   \n",
       "2       -0.026996   12.447300        -3.74150  12.447326       -3.734241   \n",
       "3        0.958068   15.121900        -3.19669  15.121857       -3.186627   \n",
       "4        2.740320   13.302700        -3.65741  13.302651       -3.648348   \n",
       "...           ...         ...             ...        ...             ...   \n",
       "2287144  1.207740   31.990500        -3.46418  31.990519       -3.454840   \n",
       "2287145 -2.738900    0.856052        -2.99246   0.856052       -2.989518   \n",
       "2287146  3.187590    1.347110        -4.00273   1.347199       -3.988562   \n",
       "2287147  2.918510   14.952900        -3.21759  14.952859       -3.208695   \n",
       "2287148  2.059100   37.472400        -3.53926  37.472448       -3.531646   \n",
       "\n",
       "         atomic_temp  \n",
       "0           0.000000  \n",
       "1         411.277829  \n",
       "2         443.796596  \n",
       "3         518.247998  \n",
       "4         556.794221  \n",
       "...              ...  \n",
       "2287144   471.677328  \n",
       "2287145   546.993840  \n",
       "2287146   463.425053  \n",
       "2287147   589.763234  \n",
       "2287148   527.789480  \n",
       "\n",
       "[2287149 rows x 13 columns]"
      ]
     },
     "execution_count": 9,
     "metadata": {},
     "output_type": "execute_result"
    }
   ],
   "source": [
    "system.data"
   ]
  },
  {
   "cell_type": "markdown",
   "id": "98372f4e",
   "metadata": {},
   "source": [
    "## 查看平均温度"
   ]
  },
  {
   "cell_type": "code",
   "execution_count": 10,
   "id": "a1597d5e",
   "metadata": {},
   "outputs": [
    {
     "data": {
      "text/plain": [
       "545.9658931975948"
      ]
     },
     "execution_count": 10,
     "metadata": {},
     "output_type": "execute_result"
    }
   ],
   "source": [
    "system.data['atomic_temp'].mean() # K"
   ]
  },
  {
   "cell_type": "markdown",
   "id": "aaa823cd",
   "metadata": {},
   "source": [
    "## 与LAMMPS计算结果进行对比"
   ]
  },
  {
   "cell_type": "code",
   "execution_count": 11,
   "id": "eadd1f6f",
   "metadata": {},
   "outputs": [
    {
     "data": {
      "text/plain": [
       "(Series([], dtype: float64), 0.007719748532132087)"
      ]
     },
     "execution_count": 11,
     "metadata": {},
     "output_type": "execute_result"
    }
   ],
   "source": [
    "# csp 对比\n",
    "error = abs(system.data['csp_lammps'] - system.data['csp'])\n",
    "error[error>0.1], error.max()"
   ]
  },
  {
   "cell_type": "code",
   "execution_count": 12,
   "id": "0321a5bc",
   "metadata": {},
   "outputs": [
    {
     "data": {
      "text/plain": [
       "(Series([], dtype: float64), 0.06396243249132372)"
      ]
     },
     "execution_count": 12,
     "metadata": {},
     "output_type": "execute_result"
    }
   ],
   "source": [
    "# 构型熵对比, 这里由于中间数值积分的地方我不清楚lammps的具体方式,结果数值上会有一些区别。\n",
    "error = abs(system.data['entropy_lammps'] - system.data['atomic_entropy'])\n",
    "error[error>0.1], error.max()"
   ]
  },
  {
   "cell_type": "markdown",
   "id": "e24e8c70",
   "metadata": {},
   "source": [
    "## 保存计算结果到dump文件中"
   ]
  },
  {
   "cell_type": "code",
   "execution_count": 13,
   "id": "6844522d",
   "metadata": {},
   "outputs": [
    {
     "name": "stdout",
     "output_type": "stream",
     "text": [
      "CPU times: total: 39.9 s\n",
      "Wall time: 39.9 s\n"
     ]
    }
   ],
   "source": [
    "%%time\n",
    "system.write_dump() # 生成一个新的dump文件"
   ]
  },
  {
   "cell_type": "markdown",
   "id": "d0dab9e3",
   "metadata": {},
   "source": [
    "## 建立简单晶体结构"
   ]
  },
  {
   "cell_type": "code",
   "execution_count": 14,
   "id": "83315aa8",
   "metadata": {},
   "outputs": [
    {
     "name": "stdout",
     "output_type": "stream",
     "text": [
      "CPU times: total: 422 ms\n",
      "Wall time: 471 ms\n"
     ]
    }
   ],
   "source": [
    "%%time\n",
    "FCC = mp.LatticeMaker(4.05, 'FCC', 50, 50, 50)\n",
    "FCC.compute()"
   ]
  },
  {
   "cell_type": "markdown",
   "id": "9df255f9",
   "metadata": {},
   "source": [
    "## 保存为data格式"
   ]
  },
  {
   "cell_type": "code",
   "execution_count": 15,
   "id": "d8b4526f",
   "metadata": {},
   "outputs": [
    {
     "name": "stdout",
     "output_type": "stream",
     "text": [
      "CPU times: total: 2.89 s\n",
      "Wall time: 2.29 s\n"
     ]
    }
   ],
   "source": [
    "%%time\n",
    "FCC.write_data()"
   ]
  },
  {
   "cell_type": "code",
   "execution_count": null,
   "id": "2a03ccb2",
   "metadata": {},
   "outputs": [],
   "source": []
  }
 ],
 "metadata": {
  "kernelspec": {
   "display_name": "mda",
   "language": "python",
   "name": "mda"
  },
  "language_info": {
   "codemirror_mode": {
    "name": "ipython",
    "version": 3
   },
   "file_extension": ".py",
   "mimetype": "text/x-python",
   "name": "python",
   "nbconvert_exporter": "python",
   "pygments_lexer": "ipython3",
   "version": "3.8.13"
  },
  "vscode": {
   "interpreter": {
    "hash": "88279d2366fe020547cde40dd65aa0e3aa662a6ec1f3ca12d88834876c85e1a6"
   }
  }
 },
 "nbformat": 4,
 "nbformat_minor": 5
}
