{
 "cells": [
  {
   "cell_type": "markdown",
   "id": "57be026e",
   "metadata": {},
   "source": [
    "# 本库的基本用法\n",
    "\n",
    "## 目前主要包含以下几个功能\n",
    "\n",
    "- 计算原子温度\n",
    "- 计算原子结构熵\n",
    "- 计算中心对称参数\n",
    "- 建立简单晶体模型\n",
    "- 建立原子近邻列表"
   ]
  },
  {
   "cell_type": "markdown",
   "id": "f5e87622",
   "metadata": {},
   "source": [
    "## 导入必要的package"
   ]
  },
  {
   "cell_type": "code",
   "execution_count": 1,
   "id": "38d2d662",
   "metadata": {},
   "outputs": [
    {
     "name": "stdout",
     "output_type": "stream",
     "text": [
      "[Taichi] version 1.1.2, llvm 10.0.0, commit f25cf4a2, win, python 3.7.3\n",
      "[Taichi] Starting on arch=x64\n"
     ]
    }
   ],
   "source": [
    "import mdapy as mp # 无特殊说明本库简写为 mp\n",
    "import numpy as np\n",
    "import taichi as ti\n",
    "ti.init(arch=ti.cpu) #arch=ti.cpu 使用CPU. # arch=ti.gpu, device_memory_GB=5. 使用GPU"
   ]
  },
  {
   "cell_type": "markdown",
   "id": "083c980f",
   "metadata": {},
   "source": [
    "## 查看版本号"
   ]
  },
  {
   "cell_type": "code",
   "execution_count": 2,
   "id": "35fea025",
   "metadata": {},
   "outputs": [
    {
     "data": {
      "text/plain": [
       "'0.4.0'"
      ]
     },
     "execution_count": 2,
     "metadata": {},
     "output_type": "execute_result"
    }
   ],
   "source": [
    "mp.__version__"
   ]
  },
  {
   "cell_type": "markdown",
   "id": "a348c63d",
   "metadata": {},
   "source": [
    "## 读取一个系统\n",
    "[可在此处下载example.dump文件](http://yunpan.mushroomfire.com/s/GzTv)"
   ]
  },
  {
   "cell_type": "code",
   "execution_count": 3,
   "id": "f9e1ee16",
   "metadata": {},
   "outputs": [
    {
     "name": "stdout",
     "output_type": "stream",
     "text": [
      "Wall time: 2.96 s\n"
     ]
    }
   ],
   "source": [
    "%%time\n",
    "system = mp.System('example.dump') "
   ]
  },
  {
   "cell_type": "markdown",
   "id": "0053e5b8",
   "metadata": {},
   "source": [
    "## 查看系统数据"
   ]
  },
  {
   "cell_type": "code",
   "execution_count": 4,
   "id": "309e32dc",
   "metadata": {},
   "outputs": [
    {
     "data": {
      "text/html": [
       "<div>\n",
       "<style scoped>\n",
       "    .dataframe tbody tr th:only-of-type {\n",
       "        vertical-align: middle;\n",
       "    }\n",
       "\n",
       "    .dataframe tbody tr th {\n",
       "        vertical-align: top;\n",
       "    }\n",
       "\n",
       "    .dataframe thead th {\n",
       "        text-align: right;\n",
       "    }\n",
       "</style>\n",
       "<table border=\"1\" class=\"dataframe\">\n",
       "  <thead>\n",
       "    <tr style=\"text-align: right;\">\n",
       "      <th></th>\n",
       "      <th>id</th>\n",
       "      <th>type</th>\n",
       "      <th>x</th>\n",
       "      <th>y</th>\n",
       "      <th>z</th>\n",
       "      <th>vx</th>\n",
       "      <th>vy</th>\n",
       "      <th>vz</th>\n",
       "      <th>c_1</th>\n",
       "      <th>c_2</th>\n",
       "    </tr>\n",
       "  </thead>\n",
       "  <tbody>\n",
       "    <tr>\n",
       "      <th>0</th>\n",
       "      <td>192295</td>\n",
       "      <td>3</td>\n",
       "      <td>-27.9096</td>\n",
       "      <td>42.0121</td>\n",
       "      <td>-22.2491</td>\n",
       "      <td>-2.35674</td>\n",
       "      <td>0.481940</td>\n",
       "      <td>-0.257686</td>\n",
       "      <td>5.06650</td>\n",
       "      <td>-3.71151</td>\n",
       "    </tr>\n",
       "    <tr>\n",
       "      <th>1</th>\n",
       "      <td>255932</td>\n",
       "      <td>5</td>\n",
       "      <td>-30.0338</td>\n",
       "      <td>43.2841</td>\n",
       "      <td>-22.1938</td>\n",
       "      <td>1.55510</td>\n",
       "      <td>-1.125920</td>\n",
       "      <td>-1.983760</td>\n",
       "      <td>5.16323</td>\n",
       "      <td>-3.69935</td>\n",
       "    </tr>\n",
       "    <tr>\n",
       "      <th>2</th>\n",
       "      <td>319374</td>\n",
       "      <td>2</td>\n",
       "      <td>-29.4179</td>\n",
       "      <td>42.0487</td>\n",
       "      <td>-20.1799</td>\n",
       "      <td>-1.56154</td>\n",
       "      <td>-0.105773</td>\n",
       "      <td>-1.052900</td>\n",
       "      <td>6.02419</td>\n",
       "      <td>-3.51732</td>\n",
       "    </tr>\n",
       "    <tr>\n",
       "      <th>3</th>\n",
       "      <td>383068</td>\n",
       "      <td>3</td>\n",
       "      <td>-27.3053</td>\n",
       "      <td>43.2945</td>\n",
       "      <td>-20.1681</td>\n",
       "      <td>1.75865</td>\n",
       "      <td>0.962938</td>\n",
       "      <td>-2.273980</td>\n",
       "      <td>5.15436</td>\n",
       "      <td>-3.90756</td>\n",
       "    </tr>\n",
       "    <tr>\n",
       "      <th>4</th>\n",
       "      <td>700644</td>\n",
       "      <td>2</td>\n",
       "      <td>-27.9671</td>\n",
       "      <td>44.5056</td>\n",
       "      <td>-22.1799</td>\n",
       "      <td>2.11749</td>\n",
       "      <td>-0.684720</td>\n",
       "      <td>-0.795077</td>\n",
       "      <td>6.15314</td>\n",
       "      <td>-3.85788</td>\n",
       "    </tr>\n",
       "    <tr>\n",
       "      <th>...</th>\n",
       "      <td>...</td>\n",
       "      <td>...</td>\n",
       "      <td>...</td>\n",
       "      <td>...</td>\n",
       "      <td>...</td>\n",
       "      <td>...</td>\n",
       "      <td>...</td>\n",
       "      <td>...</td>\n",
       "      <td>...</td>\n",
       "      <td>...</td>\n",
       "    </tr>\n",
       "    <tr>\n",
       "      <th>2287143</th>\n",
       "      <td>1715363</td>\n",
       "      <td>1</td>\n",
       "      <td>329.5120</td>\n",
       "      <td>257.9240</td>\n",
       "      <td>323.0480</td>\n",
       "      <td>1.93039</td>\n",
       "      <td>1.215740</td>\n",
       "      <td>-1.869160</td>\n",
       "      <td>5.89311</td>\n",
       "      <td>-3.92515</td>\n",
       "    </tr>\n",
       "    <tr>\n",
       "      <th>2287144</th>\n",
       "      <td>1905765</td>\n",
       "      <td>5</td>\n",
       "      <td>327.2950</td>\n",
       "      <td>256.6070</td>\n",
       "      <td>318.9410</td>\n",
       "      <td>2.16960</td>\n",
       "      <td>-4.590730</td>\n",
       "      <td>1.395140</td>\n",
       "      <td>4.94041</td>\n",
       "      <td>-4.08289</td>\n",
       "    </tr>\n",
       "    <tr>\n",
       "      <th>2287145</th>\n",
       "      <td>1966370</td>\n",
       "      <td>3</td>\n",
       "      <td>329.5330</td>\n",
       "      <td>257.9350</td>\n",
       "      <td>318.9310</td>\n",
       "      <td>2.65692</td>\n",
       "      <td>-3.539740</td>\n",
       "      <td>-1.125020</td>\n",
       "      <td>5.70667</td>\n",
       "      <td>-3.83374</td>\n",
       "    </tr>\n",
       "    <tr>\n",
       "      <th>2287146</th>\n",
       "      <td>2030121</td>\n",
       "      <td>1</td>\n",
       "      <td>328.9320</td>\n",
       "      <td>256.6390</td>\n",
       "      <td>321.0620</td>\n",
       "      <td>1.25297</td>\n",
       "      <td>0.868006</td>\n",
       "      <td>1.104770</td>\n",
       "      <td>5.42057</td>\n",
       "      <td>-3.39951</td>\n",
       "    </tr>\n",
       "    <tr>\n",
       "      <th>2287147</th>\n",
       "      <td>2093740</td>\n",
       "      <td>5</td>\n",
       "      <td>326.7530</td>\n",
       "      <td>257.7980</td>\n",
       "      <td>320.8960</td>\n",
       "      <td>2.40437</td>\n",
       "      <td>-0.944472</td>\n",
       "      <td>3.358390</td>\n",
       "      <td>6.04798</td>\n",
       "      <td>-2.90699</td>\n",
       "    </tr>\n",
       "  </tbody>\n",
       "</table>\n",
       "<p>2287148 rows × 10 columns</p>\n",
       "</div>"
      ],
      "text/plain": [
       "              id  type         x         y         z       vx        vy  \\\n",
       "0         192295     3  -27.9096   42.0121  -22.2491 -2.35674  0.481940   \n",
       "1         255932     5  -30.0338   43.2841  -22.1938  1.55510 -1.125920   \n",
       "2         319374     2  -29.4179   42.0487  -20.1799 -1.56154 -0.105773   \n",
       "3         383068     3  -27.3053   43.2945  -20.1681  1.75865  0.962938   \n",
       "4         700644     2  -27.9671   44.5056  -22.1799  2.11749 -0.684720   \n",
       "...          ...   ...       ...       ...       ...      ...       ...   \n",
       "2287143  1715363     1  329.5120  257.9240  323.0480  1.93039  1.215740   \n",
       "2287144  1905765     5  327.2950  256.6070  318.9410  2.16960 -4.590730   \n",
       "2287145  1966370     3  329.5330  257.9350  318.9310  2.65692 -3.539740   \n",
       "2287146  2030121     1  328.9320  256.6390  321.0620  1.25297  0.868006   \n",
       "2287147  2093740     5  326.7530  257.7980  320.8960  2.40437 -0.944472   \n",
       "\n",
       "               vz      c_1      c_2  \n",
       "0       -0.257686  5.06650 -3.71151  \n",
       "1       -1.983760  5.16323 -3.69935  \n",
       "2       -1.052900  6.02419 -3.51732  \n",
       "3       -2.273980  5.15436 -3.90756  \n",
       "4       -0.795077  6.15314 -3.85788  \n",
       "...           ...      ...      ...  \n",
       "2287143 -1.869160  5.89311 -3.92515  \n",
       "2287144  1.395140  4.94041 -4.08289  \n",
       "2287145 -1.125020  5.70667 -3.83374  \n",
       "2287146  1.104770  5.42057 -3.39951  \n",
       "2287147  3.358390  6.04798 -2.90699  \n",
       "\n",
       "[2287148 rows x 10 columns]"
      ]
     },
     "execution_count": 4,
     "metadata": {},
     "output_type": "execute_result"
    }
   ],
   "source": [
    "system.data"
   ]
  },
  {
   "cell_type": "markdown",
   "id": "a53672fb",
   "metadata": {},
   "source": [
    "## 生成邻域列表"
   ]
  },
  {
   "cell_type": "code",
   "execution_count": 5,
   "id": "a5b90ba7",
   "metadata": {},
   "outputs": [
    {
     "name": "stdout",
     "output_type": "stream",
     "text": [
      "Wall time: 3.82 s\n"
     ]
    }
   ],
   "source": [
    "%%time\n",
    "system.build_neighbor(rc=5., max_neigh=60)"
   ]
  },
  {
   "cell_type": "markdown",
   "id": "48fc903b",
   "metadata": {},
   "source": [
    "## 计算中心对称参数"
   ]
  },
  {
   "cell_type": "code",
   "execution_count": 6,
   "id": "e837b394",
   "metadata": {},
   "outputs": [
    {
     "name": "stdout",
     "output_type": "stream",
     "text": [
      "Wall time: 8.7 s\n"
     ]
    }
   ],
   "source": [
    "%%time\n",
    "system.cal_centro_symmetry_parameter(N=12)"
   ]
  },
  {
   "cell_type": "markdown",
   "id": "2ad297e7",
   "metadata": {},
   "source": [
    "## 计算原子构型熵"
   ]
  },
  {
   "cell_type": "code",
   "execution_count": 7,
   "id": "1de8ae45",
   "metadata": {},
   "outputs": [
    {
     "name": "stdout",
     "output_type": "stream",
     "text": [
      "Wall time: 4.31 s\n"
     ]
    }
   ],
   "source": [
    "%%time\n",
    "system.cal_atomic_entropy()"
   ]
  },
  {
   "cell_type": "markdown",
   "id": "c0b91f9c",
   "metadata": {},
   "source": [
    "## 计算平均原子温度"
   ]
  },
  {
   "cell_type": "code",
   "execution_count": 8,
   "id": "d6ef3864",
   "metadata": {},
   "outputs": [
    {
     "name": "stdout",
     "output_type": "stream",
     "text": [
      "Wall time: 1.21 s\n"
     ]
    }
   ],
   "source": [
    "%%time\n",
    "system.cal_atomic_temperature(amass=np.array([58.933, 58.693, 55.847, 26.982, 63.546]))"
   ]
  },
  {
   "cell_type": "markdown",
   "id": "c01bb1e1",
   "metadata": {},
   "source": [
    "## 查看计算结果"
   ]
  },
  {
   "cell_type": "code",
   "execution_count": 9,
   "id": "ed5dca30",
   "metadata": {},
   "outputs": [
    {
     "data": {
      "text/html": [
       "<div>\n",
       "<style scoped>\n",
       "    .dataframe tbody tr th:only-of-type {\n",
       "        vertical-align: middle;\n",
       "    }\n",
       "\n",
       "    .dataframe tbody tr th {\n",
       "        vertical-align: top;\n",
       "    }\n",
       "\n",
       "    .dataframe thead th {\n",
       "        text-align: right;\n",
       "    }\n",
       "</style>\n",
       "<table border=\"1\" class=\"dataframe\">\n",
       "  <thead>\n",
       "    <tr style=\"text-align: right;\">\n",
       "      <th></th>\n",
       "      <th>id</th>\n",
       "      <th>type</th>\n",
       "      <th>x</th>\n",
       "      <th>y</th>\n",
       "      <th>z</th>\n",
       "      <th>vx</th>\n",
       "      <th>vy</th>\n",
       "      <th>vz</th>\n",
       "      <th>c_1</th>\n",
       "      <th>c_2</th>\n",
       "      <th>csp</th>\n",
       "      <th>atomic_entropy</th>\n",
       "      <th>atomic_temp</th>\n",
       "    </tr>\n",
       "  </thead>\n",
       "  <tbody>\n",
       "    <tr>\n",
       "      <th>0</th>\n",
       "      <td>192295</td>\n",
       "      <td>3</td>\n",
       "      <td>-27.9096</td>\n",
       "      <td>42.0121</td>\n",
       "      <td>-22.2491</td>\n",
       "      <td>-2.35674</td>\n",
       "      <td>0.481940</td>\n",
       "      <td>-0.257686</td>\n",
       "      <td>5.06650</td>\n",
       "      <td>-3.71151</td>\n",
       "      <td>5.066506</td>\n",
       "      <td>-3.704394</td>\n",
       "      <td>271.311096</td>\n",
       "    </tr>\n",
       "    <tr>\n",
       "      <th>1</th>\n",
       "      <td>255932</td>\n",
       "      <td>5</td>\n",
       "      <td>-30.0338</td>\n",
       "      <td>43.2841</td>\n",
       "      <td>-22.1938</td>\n",
       "      <td>1.55510</td>\n",
       "      <td>-1.125920</td>\n",
       "      <td>-1.983760</td>\n",
       "      <td>5.16323</td>\n",
       "      <td>-3.69935</td>\n",
       "      <td>5.163225</td>\n",
       "      <td>-3.693706</td>\n",
       "      <td>244.521713</td>\n",
       "    </tr>\n",
       "    <tr>\n",
       "      <th>2</th>\n",
       "      <td>319374</td>\n",
       "      <td>2</td>\n",
       "      <td>-29.4179</td>\n",
       "      <td>42.0487</td>\n",
       "      <td>-20.1799</td>\n",
       "      <td>-1.56154</td>\n",
       "      <td>-0.105773</td>\n",
       "      <td>-1.052900</td>\n",
       "      <td>6.02419</td>\n",
       "      <td>-3.51732</td>\n",
       "      <td>6.024189</td>\n",
       "      <td>-3.511253</td>\n",
       "      <td>240.937302</td>\n",
       "    </tr>\n",
       "    <tr>\n",
       "      <th>3</th>\n",
       "      <td>383068</td>\n",
       "      <td>3</td>\n",
       "      <td>-27.3053</td>\n",
       "      <td>43.2945</td>\n",
       "      <td>-20.1681</td>\n",
       "      <td>1.75865</td>\n",
       "      <td>0.962938</td>\n",
       "      <td>-2.273980</td>\n",
       "      <td>5.15436</td>\n",
       "      <td>-3.90756</td>\n",
       "      <td>5.154361</td>\n",
       "      <td>-3.897303</td>\n",
       "      <td>230.167953</td>\n",
       "    </tr>\n",
       "    <tr>\n",
       "      <th>4</th>\n",
       "      <td>700644</td>\n",
       "      <td>2</td>\n",
       "      <td>-27.9671</td>\n",
       "      <td>44.5056</td>\n",
       "      <td>-22.1799</td>\n",
       "      <td>2.11749</td>\n",
       "      <td>-0.684720</td>\n",
       "      <td>-0.795077</td>\n",
       "      <td>6.15314</td>\n",
       "      <td>-3.85788</td>\n",
       "      <td>6.153219</td>\n",
       "      <td>-3.849362</td>\n",
       "      <td>243.981369</td>\n",
       "    </tr>\n",
       "    <tr>\n",
       "      <th>...</th>\n",
       "      <td>...</td>\n",
       "      <td>...</td>\n",
       "      <td>...</td>\n",
       "      <td>...</td>\n",
       "      <td>...</td>\n",
       "      <td>...</td>\n",
       "      <td>...</td>\n",
       "      <td>...</td>\n",
       "      <td>...</td>\n",
       "      <td>...</td>\n",
       "      <td>...</td>\n",
       "      <td>...</td>\n",
       "      <td>...</td>\n",
       "    </tr>\n",
       "    <tr>\n",
       "      <th>2287143</th>\n",
       "      <td>1715363</td>\n",
       "      <td>1</td>\n",
       "      <td>329.5120</td>\n",
       "      <td>257.9240</td>\n",
       "      <td>323.0480</td>\n",
       "      <td>1.93039</td>\n",
       "      <td>1.215740</td>\n",
       "      <td>-1.869160</td>\n",
       "      <td>5.89311</td>\n",
       "      <td>-3.92515</td>\n",
       "      <td>5.893107</td>\n",
       "      <td>-3.916707</td>\n",
       "      <td>260.688812</td>\n",
       "    </tr>\n",
       "    <tr>\n",
       "      <th>2287144</th>\n",
       "      <td>1905765</td>\n",
       "      <td>5</td>\n",
       "      <td>327.2950</td>\n",
       "      <td>256.6070</td>\n",
       "      <td>318.9410</td>\n",
       "      <td>2.16960</td>\n",
       "      <td>-4.590730</td>\n",
       "      <td>1.395140</td>\n",
       "      <td>4.94041</td>\n",
       "      <td>-4.08289</td>\n",
       "      <td>4.940413</td>\n",
       "      <td>-4.073879</td>\n",
       "      <td>320.674103</td>\n",
       "    </tr>\n",
       "    <tr>\n",
       "      <th>2287145</th>\n",
       "      <td>1966370</td>\n",
       "      <td>3</td>\n",
       "      <td>329.5330</td>\n",
       "      <td>257.9350</td>\n",
       "      <td>318.9310</td>\n",
       "      <td>2.65692</td>\n",
       "      <td>-3.539740</td>\n",
       "      <td>-1.125020</td>\n",
       "      <td>5.70667</td>\n",
       "      <td>-3.83374</td>\n",
       "      <td>5.706692</td>\n",
       "      <td>-3.825464</td>\n",
       "      <td>344.000671</td>\n",
       "    </tr>\n",
       "    <tr>\n",
       "      <th>2287146</th>\n",
       "      <td>2030121</td>\n",
       "      <td>1</td>\n",
       "      <td>328.9320</td>\n",
       "      <td>256.6390</td>\n",
       "      <td>321.0620</td>\n",
       "      <td>1.25297</td>\n",
       "      <td>0.868006</td>\n",
       "      <td>1.104770</td>\n",
       "      <td>5.42057</td>\n",
       "      <td>-3.39951</td>\n",
       "      <td>5.420572</td>\n",
       "      <td>-3.393086</td>\n",
       "      <td>241.169174</td>\n",
       "    </tr>\n",
       "    <tr>\n",
       "      <th>2287147</th>\n",
       "      <td>2093740</td>\n",
       "      <td>5</td>\n",
       "      <td>326.7530</td>\n",
       "      <td>257.7980</td>\n",
       "      <td>320.8960</td>\n",
       "      <td>2.40437</td>\n",
       "      <td>-0.944472</td>\n",
       "      <td>3.358390</td>\n",
       "      <td>6.04798</td>\n",
       "      <td>-2.90699</td>\n",
       "      <td>6.048002</td>\n",
       "      <td>-2.902135</td>\n",
       "      <td>245.842743</td>\n",
       "    </tr>\n",
       "  </tbody>\n",
       "</table>\n",
       "<p>2287148 rows × 13 columns</p>\n",
       "</div>"
      ],
      "text/plain": [
       "              id  type         x         y         z       vx        vy  \\\n",
       "0         192295     3  -27.9096   42.0121  -22.2491 -2.35674  0.481940   \n",
       "1         255932     5  -30.0338   43.2841  -22.1938  1.55510 -1.125920   \n",
       "2         319374     2  -29.4179   42.0487  -20.1799 -1.56154 -0.105773   \n",
       "3         383068     3  -27.3053   43.2945  -20.1681  1.75865  0.962938   \n",
       "4         700644     2  -27.9671   44.5056  -22.1799  2.11749 -0.684720   \n",
       "...          ...   ...       ...       ...       ...      ...       ...   \n",
       "2287143  1715363     1  329.5120  257.9240  323.0480  1.93039  1.215740   \n",
       "2287144  1905765     5  327.2950  256.6070  318.9410  2.16960 -4.590730   \n",
       "2287145  1966370     3  329.5330  257.9350  318.9310  2.65692 -3.539740   \n",
       "2287146  2030121     1  328.9320  256.6390  321.0620  1.25297  0.868006   \n",
       "2287147  2093740     5  326.7530  257.7980  320.8960  2.40437 -0.944472   \n",
       "\n",
       "               vz      c_1      c_2       csp  atomic_entropy  atomic_temp  \n",
       "0       -0.257686  5.06650 -3.71151  5.066506       -3.704394   271.311096  \n",
       "1       -1.983760  5.16323 -3.69935  5.163225       -3.693706   244.521713  \n",
       "2       -1.052900  6.02419 -3.51732  6.024189       -3.511253   240.937302  \n",
       "3       -2.273980  5.15436 -3.90756  5.154361       -3.897303   230.167953  \n",
       "4       -0.795077  6.15314 -3.85788  6.153219       -3.849362   243.981369  \n",
       "...           ...      ...      ...       ...             ...          ...  \n",
       "2287143 -1.869160  5.89311 -3.92515  5.893107       -3.916707   260.688812  \n",
       "2287144  1.395140  4.94041 -4.08289  4.940413       -4.073879   320.674103  \n",
       "2287145 -1.125020  5.70667 -3.83374  5.706692       -3.825464   344.000671  \n",
       "2287146  1.104770  5.42057 -3.39951  5.420572       -3.393086   241.169174  \n",
       "2287147  3.358390  6.04798 -2.90699  6.048002       -2.902135   245.842743  \n",
       "\n",
       "[2287148 rows x 13 columns]"
      ]
     },
     "execution_count": 9,
     "metadata": {},
     "output_type": "execute_result"
    }
   ],
   "source": [
    "system.data"
   ]
  },
  {
   "cell_type": "markdown",
   "id": "98372f4e",
   "metadata": {},
   "source": [
    "## 查看平均温度"
   ]
  },
  {
   "cell_type": "code",
   "execution_count": 10,
   "id": "a1597d5e",
   "metadata": {},
   "outputs": [
    {
     "data": {
      "text/plain": [
       "293.87168742301066"
      ]
     },
     "execution_count": 10,
     "metadata": {},
     "output_type": "execute_result"
    }
   ],
   "source": [
    "system.data['atomic_temp'].mean() # K"
   ]
  },
  {
   "cell_type": "markdown",
   "id": "aaa823cd",
   "metadata": {},
   "source": [
    "## 与LAMMPS计算结果进行对比"
   ]
  },
  {
   "cell_type": "code",
   "execution_count": 11,
   "id": "eadd1f6f",
   "metadata": {},
   "outputs": [
    {
     "data": {
      "text/plain": [
       "(Series([], dtype: float64), 0.0049196543884280075)"
      ]
     },
     "execution_count": 11,
     "metadata": {},
     "output_type": "execute_result"
    }
   ],
   "source": [
    "# csp 对比\n",
    "error = abs(system.data['c_1'] - system.data['csp'])\n",
    "error[error>0.1], error.max()"
   ]
  },
  {
   "cell_type": "code",
   "execution_count": 12,
   "id": "0321a5bc",
   "metadata": {},
   "outputs": [
    {
     "data": {
      "text/plain": [
       "(Series([], dtype: float64), 0.08606090263366717)"
      ]
     },
     "execution_count": 12,
     "metadata": {},
     "output_type": "execute_result"
    }
   ],
   "source": [
    "# 构型熵对比, 这里由于中间数值积分的地方我不清楚lammps的具体方式,结果数值上会有一些区别。\n",
    "error = abs(system.data['c_2'] - system.data['atomic_entropy'])\n",
    "error[error>0.1], error.max()"
   ]
  },
  {
   "cell_type": "markdown",
   "id": "e24e8c70",
   "metadata": {},
   "source": [
    "## 保存计算结果到dump文件中"
   ]
  },
  {
   "cell_type": "code",
   "execution_count": 13,
   "id": "6844522d",
   "metadata": {},
   "outputs": [
    {
     "name": "stdout",
     "output_type": "stream",
     "text": [
      "Wall time: 30.1 s\n"
     ]
    }
   ],
   "source": [
    "%%time\n",
    "system.write_dump() # 生成一个新的dump文件"
   ]
  },
  {
   "cell_type": "markdown",
   "id": "d0dab9e3",
   "metadata": {},
   "source": [
    "## 建立简单晶体结构"
   ]
  },
  {
   "cell_type": "code",
   "execution_count": 14,
   "id": "83315aa8",
   "metadata": {},
   "outputs": [
    {
     "name": "stdout",
     "output_type": "stream",
     "text": [
      "Wall time: 506 ms\n"
     ]
    }
   ],
   "source": [
    "%%time\n",
    "FCC = mp.LatticeMaker(4.05, 'FCC', 50, 50, 50)\n",
    "FCC.compute()"
   ]
  },
  {
   "cell_type": "markdown",
   "id": "9df255f9",
   "metadata": {},
   "source": [
    "## 保存为data格式"
   ]
  },
  {
   "cell_type": "code",
   "execution_count": 15,
   "id": "d8b4526f",
   "metadata": {},
   "outputs": [
    {
     "name": "stdout",
     "output_type": "stream",
     "text": [
      "Wall time: 3.23 s\n"
     ]
    }
   ],
   "source": [
    "%%time\n",
    "FCC.write_data()"
   ]
  }
 ],
 "metadata": {
  "kernelspec": {
   "display_name": "Python 3 (ipykernel)",
   "language": "python",
   "name": "python3"
  },
  "language_info": {
   "codemirror_mode": {
    "name": "ipython",
    "version": 3
   },
   "file_extension": ".py",
   "mimetype": "text/x-python",
   "name": "python",
   "nbconvert_exporter": "python",
   "pygments_lexer": "ipython3",
   "version": "3.7.3"
  }
 },
 "nbformat": 4,
 "nbformat_minor": 5
}
